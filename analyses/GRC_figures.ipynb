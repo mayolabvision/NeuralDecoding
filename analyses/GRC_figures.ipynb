{
 "cells": [
  {
   "cell_type": "code",
   "execution_count": 44,
   "id": "3fb1a73b",
   "metadata": {},
   "outputs": [],
   "source": [
    "import numpy as np\n",
    "import pandas as pd\n",
    "import os\n",
    "import sys\n",
    "import seaborn as sns\n",
    "import matplotlib.pyplot as plt\n",
    "\n",
    "cwd = os.getcwd()\n",
    "sys.path.append(cwd+\"/../handy_functions\")\n",
    "\n",
    "from concat_pickles import get_outputs,print_df\n",
    "from scipy.stats import mannwhitneyu, normaltest\n",
    "from statannotations.Annotator import Annotator"
   ]
  },
  {
   "cell_type": "code",
   "execution_count": 45,
   "id": "ab8b8c2a",
   "metadata": {},
   "outputs": [
    {
     "data": {
      "text/html": [
       "<div>\n",
       "<style scoped>\n",
       "    .dataframe tbody tr th:only-of-type {\n",
       "        vertical-align: middle;\n",
       "    }\n",
       "\n",
       "    .dataframe tbody tr th {\n",
       "        vertical-align: top;\n",
       "    }\n",
       "\n",
       "    .dataframe thead th {\n",
       "        text-align: right;\n",
       "    }\n",
       "</style>\n",
       "<table border=\"1\" class=\"dataframe\">\n",
       "  <thead>\n",
       "    <tr style=\"text-align: right;\">\n",
       "      <th></th>\n",
       "      <th>sess</th>\n",
       "      <th>repeat</th>\n",
       "      <th>outer_fold</th>\n",
       "      <th>nMT</th>\n",
       "      <th>nFEF</th>\n",
       "      <th>model</th>\n",
       "      <th>mean_R2</th>\n",
       "      <th>mean_rho</th>\n",
       "      <th>mean_R2_null</th>\n",
       "      <th>mean_rho_null</th>\n",
       "    </tr>\n",
       "  </thead>\n",
       "  <tbody>\n",
       "    <tr>\n",
       "      <th>0</th>\n",
       "      <td>16</td>\n",
       "      <td>0</td>\n",
       "      <td>0</td>\n",
       "      <td>24</td>\n",
       "      <td>24</td>\n",
       "      <td>0</td>\n",
       "      <td>-0.011687</td>\n",
       "      <td>-0.025916</td>\n",
       "      <td>-0.010374</td>\n",
       "      <td>-0.011118</td>\n",
       "    </tr>\n",
       "  </tbody>\n",
       "</table>\n",
       "</div>"
      ],
      "text/plain": [
       "   sess  repeat  outer_fold  nMT  nFEF  model   mean_R2  mean_rho   \n",
       "0    16       0           0   24    24      0 -0.011687 -0.025916  \\\n",
       "\n",
       "   mean_R2_null  mean_rho_null  \n",
       "0     -0.010374      -0.011118  "
      ]
     },
     "execution_count": 45,
     "metadata": {},
     "output_type": "execute_result"
    }
   ],
   "source": [
    "data_folder = '/Users/kendranoneman/Projects/mayo/NeuralDecoding/runs/all_decoders'\n",
    "df = get_outputs(data_folder,0)\n",
    "df.head(1)"
   ]
  },
  {
   "cell_type": "code",
   "execution_count": 120,
   "id": "efe76bf6",
   "metadata": {},
   "outputs": [
    {
     "data": {
      "text/plain": [
       "index            934.000000\n",
       "sess              29.000000\n",
       "repeat             0.000000\n",
       "outer_fold         6.000000\n",
       "nMT               24.000000\n",
       "nFEF              41.000000\n",
       "model              6.000000\n",
       "mean_R2            0.915612\n",
       "mean_rho           0.957288\n",
       "mean_R2_null      -0.004067\n",
       "mean_rho_null     -0.003174\n",
       "Name: 54, dtype: float64"
      ]
     },
     "execution_count": 120,
     "metadata": {},
     "output_type": "execute_result"
    }
   ],
   "source": [
    "test_sess = df.loc[df['sess']==29].reset_index()\n",
    "#test_melt = test_sess.melt(id_vars=['model','outer_fold'], value_vars=['mean_R2','mean_R2_null'],\n",
    "#                           var_name='true_null', value_name='R2')\n",
    "#test_melt.head(5)\n",
    "\n",
    "test_max = test_sess.iloc[test_sess['mean_R2'].idxmax()]\n",
    "test_max"
   ]
  },
  {
   "cell_type": "code",
   "execution_count": 112,
   "id": "6593cc1c",
   "metadata": {},
   "outputs": [
    {
     "data": {
      "text/plain": [
       "[Text(0, 0.5, '')]"
      ]
     },
     "execution_count": 112,
     "metadata": {},
     "output_type": "execute_result"
    },
    {
     "data": {
      "image/png": "[encoded data removed]",
      "text/plain": [
       "<Figure size 1000x800 with 1 Axes>"
      ]
     },
     "metadata": {},
     "output_type": "display_data"
    }
   ],
   "source": [
    "plt.rcParams.update({'font.size': 14})\n",
    "\n",
    "fig, ax = plt.subplots(1,1, figsize=(10,8))\n",
    "\n",
    "#'bad' sessions: 16\n",
    "#'semi' sessions: 18,20,34,38\n",
    "#'good' sessions: 19*,21,22,23*,24,25,27,28,29*,32,33,35,\n",
    "hue_plot_params = {'data':df.loc[df['sess']==29], 'x':'model', 'y':'mean_R2', 'palette':'husl'}\n",
    "a = sns.boxplot(ax=ax, **hue_plot_params)\n",
    "a.set_xticklabels(['wf','wc','xgb','svr','dnn','rnn','gru','lstm'], rotation=0)\n",
    "        \n",
    "a.set(xlabel=None)\n",
    "a.set(ylabel=None)\n"
   ]
  },
  {
   "cell_type": "code",
   "execution_count": null,
   "id": "38fa1f8a",
   "metadata": {},
   "outputs": [],
   "source": [
    "\n",
    "hue_plot_params = [[],[],[]]\n",
    "hue_plot_params[0] = {'data': df.loc[df['sess'] == sessions[s]],'x': 'model','y': 'r2',\"hue\": \"Brain Area\",\"palette\": colors}\n",
    "hue_plot_params[1] = {'data': df.loc[df['sess'] == sessions[s]],'x': 'model','y': 'rho',\"hue\": \"Brain Area\",\"palette\": colors}\n",
    "hue_plot_params[2] = {'data': df.loc[df['sess'] == sessions[s]],'x': 'model','y': 'time',\"hue\": \"Brain Area\",\"palette\": colors}\n",
    "\n",
    "wf_size = int((df[(df['sess']==sessions[s]) & (df['model']=='wf')].shape[0])/4)\n",
    "wc_size = int((df[(df['sess']==sessions[s]) & (df['model']=='wc')].shape[0])/4)\n",
    "dnn_size = int((df[(df['sess']==sessions[s]) & (df['model']=='dnn')].shape[0])/4)\n",
    "print(wf_size)\n",
    "print(wc_size)\n",
    "\n",
    "a1 = sns.boxplot(ax=axes[s], **hue_plot_params[0])\n",
    "annotator = Annotator(axes[s], pairs, **hue_plot_params[0])\n",
    "annotator.configure(test=\"Mann-Whitney\").apply_and_annotate()\n",
    "axes[s].set_xticklabels(['wf (n = {})'.format(wf_size),'wc (n = {})'.format(wc_size),'dnn (n = {})'.format(dnn_size)], rotation=0)\n",
    "a1.set(xlabel=None)\n",
    "        a1.set(title='pa' + str(sessions[s])+' ({} MT, {} FEF)'.format(mt_perSess[s],fef_perSess[s]))\n",
    "        \n",
    "        if s==0:\n",
    "            a1.set_ylabel('Prediction Accuracy ($R^2$)', fontsize = 16)\n",
    "        else:\n",
    "            a1.set(ylabel=None)\n",
    "        \n",
    "        if s!=len(sessions)-1:\n",
    "            a1.get_legend().remove()\n",
    "        else:    \n",
    "            sns.move_legend(a1, \"center left\", bbox_to_anchor=(1, 0.65))  \n",
    "            \n",
    "fig.text(0.5, 0.01, 'model type', ha='center', fontsize=16)\n",
    "fig.savefig(fig_folder+'ffmodels_r2_3sess.png', dpi=300, bbox_inches='tight')        "
   ]
  }
 ],
 "metadata": {
  "kernelspec": {
   "display_name": "neuraldecoding",
   "language": "python",
   "name": "neuraldecoding"
  },
  "language_info": {
   "codemirror_mode": {
    "name": "ipython",
    "version": 3
   },
   "file_extension": ".py",
   "mimetype": "text/x-python",
   "name": "python",
   "nbconvert_exporter": "python",
   "pygments_lexer": "ipython3",
   "version": "3.10.10"
  }
 },
 "nbformat": 4,
 "nbformat_minor": 5
}
