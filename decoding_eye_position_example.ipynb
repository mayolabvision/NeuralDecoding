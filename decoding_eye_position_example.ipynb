{
 "cells": [
  {
   "cell_type": "code",
   "execution_count": null,
   "metadata": {},
   "outputs": [],
   "source": []
  },
  {
   "cell_type": "code",
   "execution_count": 1,
   "metadata": {},
   "outputs": [
    {
     "name": "stderr",
     "output_type": "stream",
     "text": [
      "Using TensorFlow backend.\n"
     ]
    }
   ],
   "source": [
    "import numpy as np\n",
    "from scipy import io\n",
    "\n",
    "###Import functions for binning data for preprocessing###\n",
    "from Neural_Decoding.preprocessing_funcs import bin_spikes\n",
    "from Neural_Decoding.preprocessing_funcs import bin_output\n",
    "\n",
    "###Load Data###\n",
    "folder='/Users/kendranoneman/Projects/mayo/NeuralDecoding/datasets'\n",
    "data=io.loadmat(folder+'MTFEF-pa29dir4A-1600ms.mat')\n",
    "spike_times=data['spike_times'] #Load spike times of all neurons\n",
    "vels=data['outputs'] #Load x and y velocities\n",
    "vel_times=data['vel_times'] #Load times at which velocities were recorded\n",
    "vel_times=np.squeeze(vel_times)\n",
    "\n",
    "\n",
    "dt=.05 #Size of time bins (in seconds)\n",
    "t_start=vel_times[0] #Time to start extracting data - here the first time velocity was recorded\n",
    "t_end=vel_times[-1] #Time to finish extracting data - here the last time velocity was recorded\n",
    "downsample_factor=1 #Downsampling of output (to make binning go faster). 1 means no downsampling.\n",
    "\n",
    "\n",
    "#When loading the Matlab cell \"spike_times\", Python puts it in a format with an extra unnecessary dimension\n",
    "#First, we will put spike_times in a cleaner format: an array of arrays\n",
    "spike_times=np.squeeze(spike_times)\n",
    "for i in range(spike_times.shape[0]):\n",
    "    spike_times[i]=np.squeeze(spike_times[i])\n",
    "\n",
    "\n",
    "\n",
    "###Preprocessing to put spikes and output in bins###\n",
    "\n",
    "#Bin neural data using \"bin_spikes\" function\n",
    "\n",
    "\n",
    "neural_data=bin_spikes(spike_times,dt,t_start,t_end)\n",
    "\n",
    "#Bin output (velocity) data using \"bin_output\" function\n",
    "vels_binned=bin_output(vels,vel_times,dt,t_start,t_end,downsample_factor)\n",
    "\n",
    "\n",
    "\n",
    "\n",
    "import pickle\n",
    "\n",
    "data_folder='/Users/liubing/Documents/data/FEF_decoding/1_FEF_MT/decoding_results/' #FOLDER YOU WANT TO SAVE THE DATA TO\n",
    "\n",
    "with open(data_folder+'decoding_model_data_pos_1600ms_pa29.pickle','wb') as f:\n",
    "    pickle.dump([neural_data,vels_binned],f)\n",
    "\n",
    "\n"
   ]
  },
  {
   "cell_type": "code",
   "execution_count": 2,
   "metadata": {},
   "outputs": [],
   "source": [
    "import numpy as np\n",
    "import matplotlib.pyplot as plt\n",
    "get_ipython().run_line_magic('matplotlib', 'inline')\n",
    "from scipy import io\n",
    "from scipy import stats\n",
    "import pickle\n",
    "\n",
    "# If you would prefer to load the '.h5' example file rather than the '.pickle' example file. You need the deepdish package\n",
    "# import deepdish as dd \n",
    "\n",
    "#Import function to get the covariate matrix that includes spike history from previous bins\n",
    "from Neural_Decoding.preprocessing_funcs import get_spikes_with_history\n",
    "\n",
    "#Import metrics\n",
    "from Neural_Decoding.metrics import get_R2\n",
    "from Neural_Decoding.metrics import get_rho\n",
    "\n",
    "#Import decoder functions\n",
    "from Neural_Decoding.decoders import WienerCascadeDecoder\n",
    "from Neural_Decoding.decoders import WienerFilterDecoder\n",
    "from Neural_Decoding.decoders import DenseNNDecoder\n",
    "from Neural_Decoding.decoders import SimpleRNNDecoder\n",
    "from Neural_Decoding.decoders import GRUDecoder\n",
    "from Neural_Decoding.decoders import LSTMDecoder\n",
    "from Neural_Decoding.decoders import XGBoostDecoder\n",
    "from Neural_Decoding.decoders import SVRDecoder"
   ]
  },
  {
   "cell_type": "code",
   "execution_count": 3,
   "metadata": {},
   "outputs": [],
   "source": [
    "folder='/Users/liubing/Documents/data/FEF_decoding/1_FEF_MT/decoding_results/' #ENTER THE FOLDER THAT YOUR DATA IS IN\n",
    "# folder='/home/jglaser/Data/DecData/' \n",
    "# folder='/Users/jig289/Dropbox/Public/Decoding_Data/'\n",
    "\n",
    "with open(folder+'decoding_model_data_pos_1600ms_pa29.pickle','rb') as f:\n",
    "    neural_data,vels_binned=pickle.load(f,encoding='latin1') #If using python 3\n",
    "#     neural_data,vels_binned=pickle.load(f) #If using python 2\n",
    "\n",
    "# #If you would prefer to load the '.h5' example file rather than the '.pickle' example file.\n",
    "# data=dd.io.load(folder+'example_data_s1.h5')\n",
    "# neural_data=data['neural_data']\n",
    "# vels_binned=data['vels_binned']\n",
    "\n",
    "bins_before=6 #How many bins of neural data prior to the output are used for decoding\n",
    "bins_current=1 #Whether to use concurrent time bin of neural data\n",
    "bins_after=6 #How many bins of neural data after the output are used for decoding"
   ]
  },
  {
   "cell_type": "code",
   "execution_count": 4,
   "metadata": {},
   "outputs": [],
   "source": [
    "# Format for recurrent neural networks (SimpleRNN, GRU, LSTM)\n",
    "# Function to get the covariate matrix that includes spike history from previous bins\n",
    "X=get_spikes_with_history(neural_data,bins_before,bins_after,bins_current)\n",
    "\n",
    "# Format for Wiener Filter, Wiener Cascade, XGBoost, and Dense Neural Network\n",
    "#Put in \"flat\" format, so each \"neuron / time\" is a single feature\n",
    "X_flat=X.reshape(X.shape[0],(X.shape[1]*X.shape[2]))\n",
    "\n",
    "y=vels_binned"
   ]
  },
  {
   "cell_type": "code",
   "execution_count": 5,
   "metadata": {},
   "outputs": [],
   "source": [
    "training_range=[0, 0.7]\n",
    "testing_range=[0.7, 0.85]\n",
    "valid_range=[0.85,1]"
   ]
  },
  {
   "cell_type": "code",
   "execution_count": 6,
   "metadata": {},
   "outputs": [],
   "source": [
    "num_examples=X.shape[0]\n",
    "\n",
    "#Note that each range has a buffer of\"bins_before\" bins at the beginning, and \"bins_after\" bins at the end\n",
    "#This makes it so that the different sets don't include overlapping neural data\n",
    "training_set=np.arange(np.int(np.round(training_range[0]*num_examples))+bins_before,np.int(np.round(training_range[1]*num_examples))-bins_after)\n",
    "testing_set=np.arange(np.int(np.round(testing_range[0]*num_examples))+bins_before,np.int(np.round(testing_range[1]*num_examples))-bins_after)\n",
    "valid_set=np.arange(np.int(np.round(valid_range[0]*num_examples))+bins_before,np.int(np.round(valid_range[1]*num_examples))-bins_after)\n",
    "\n",
    "#Get training data\n",
    "X_train=X[training_set,:,:]\n",
    "X_flat_train=X_flat[training_set,:]\n",
    "y_train=y[training_set,:]\n",
    "\n",
    "#Get testing data\n",
    "X_test=X[testing_set,:,:]\n",
    "X_flat_test=X_flat[testing_set,:]\n",
    "y_test=y[testing_set,:]\n",
    "\n",
    "#Get validation data\n",
    "X_valid=X[valid_set,:,:]\n",
    "X_flat_valid=X_flat[valid_set,:]\n",
    "y_valid=y[valid_set,:]"
   ]
  },
  {
   "cell_type": "code",
   "execution_count": 7,
   "metadata": {},
   "outputs": [],
   "source": [
    "X_train_mean=np.nanmean(X_train,axis=0)\n",
    "X_train_std=np.nanstd(X_train,axis=0)\n",
    "X_train=(X_train-X_train_mean)/X_train_std\n",
    "X_test=(X_test-X_train_mean)/X_train_std\n",
    "X_valid=(X_valid-X_train_mean)/X_train_std\n",
    "\n",
    "#Z-score \"X_flat\" inputs. \n",
    "X_flat_train_mean=np.nanmean(X_flat_train,axis=0)\n",
    "X_flat_train_std=np.nanstd(X_flat_train,axis=0)\n",
    "X_flat_train=(X_flat_train-X_flat_train_mean)/X_flat_train_std\n",
    "X_flat_test=(X_flat_test-X_flat_train_mean)/X_flat_train_std\n",
    "X_flat_valid=(X_flat_valid-X_flat_train_mean)/X_flat_train_std\n",
    "\n",
    "#Zero-center outputs\n",
    "y_train_mean=np.mean(y_train,axis=0)\n",
    "y_train=y_train-y_train_mean\n",
    "y_test=y_test-y_train_mean\n",
    "y_valid=y_valid-y_train_mean"
   ]
  },
  {
   "cell_type": "code",
   "execution_count": 8,
   "metadata": {},
   "outputs": [
    {
     "name": "stdout",
     "output_type": "stream",
     "text": [
      "R2s: [0.62333736 0.64386914]\n"
     ]
    }
   ],
   "source": [
    "#Declare model\n",
    "model_wf=WienerFilterDecoder()\n",
    "\n",
    "#Fit model\n",
    "model_wf.fit(X_flat_train,y_train)\n",
    "\n",
    "#Get predictions\n",
    "y_valid_predicted_wf=model_wf.predict(X_flat_valid)\n",
    "\n",
    "#Get metric of fit\n",
    "R2s_wf=get_R2(y_valid,y_valid_predicted_wf)\n",
    "print('R2s:', R2s_wf)"
   ]
  },
  {
   "cell_type": "code",
   "execution_count": 30,
   "metadata": {},
   "outputs": [],
   "source": [
    "import scipy.io as sio\n",
    "sio.savemat('decoding_data_1600ms_wf_pa29.mat',{'y_valid': y_valid,'y_train_mean': y_train_mean, 'y_valid_predicted_wf': y_valid_predicted_wf,'R2s_wf':R2s_wf})"
   ]
  },
  {
   "cell_type": "code",
   "execution_count": 9,
   "metadata": {},
   "outputs": [
    {
     "name": "stdout",
     "output_type": "stream",
     "text": [
      "R2s: [0.62624308 0.64306022]\n"
     ]
    }
   ],
   "source": [
    "#Declare model\n",
    "model_wc=WienerCascadeDecoder(degree=3)\n",
    "\n",
    "#Fit model\n",
    "model_wc.fit(X_flat_train,y_train)\n",
    "\n",
    "#Get predictions\n",
    "y_valid_predicted_wc=model_wc.predict(X_flat_valid)\n",
    "\n",
    "#Get metric of fit\n",
    "R2s_wc=get_R2(y_valid,y_valid_predicted_wc)\n",
    "print('R2s:', R2s_wc)"
   ]
  },
  {
   "cell_type": "code",
   "execution_count": 10,
   "metadata": {},
   "outputs": [],
   "source": [
    "def wc_evaluate(degree):\n",
    "    model_wc=WienerCascadeDecoder(degree) #Define model\n",
    "    model_wc.fit(X_flat_train,y_train) #Fit model\n",
    "    y_valid_predicted_wc=model_wc.predict(X_flat_valid) #Validation set predictions\n",
    "    return np.mean(get_R2(y_valid,y_valid_predicted_wc)) #R2 value of validation set (mean over x and y position/velocity)"
   ]
  },
  {
   "cell_type": "code",
   "execution_count": 13,
   "metadata": {},
   "outputs": [],
   "source": [
    "#Define Bayesian optimization, and set limits of hyperparameters \n",
    "#Here, we set the limit of \"degree\" to be [1, 6.99], so we test degrees 1,2,3,4,5,6\n",
    "wcBO = BayesianOptimization(wc_evaluate, {'degree': (1, 20.99)}, verbose=0)\n",
    "#Set number of initial runs (init_points) and subsequent tests (n_iter), and do the optimization\n",
    "#kappa is a parameter that sets exploration vs exploitation in the algorithm\n",
    "#We set kappa=10 (greater than the default) so there is more exploration when there are more hyperparameters\n",
    "wcBO.maximize(init_points=5, n_iter=5, kappa=10)"
   ]
  },
  {
   "cell_type": "code",
   "execution_count": 14,
   "metadata": {
    "scrolled": true
   },
   "outputs": [
    {
     "data": {
      "text/plain": [
       "[{'target': 0.6425258764286511, 'params': {'degree': 17.45881554264842}},\n",
       " {'target': 0.6425258764286511, 'params': {'degree': 17.473164408168923}},\n",
       " {'target': 0.642602232362902, 'params': {'degree': 15.536339630374894}},\n",
       " {'target': 0.6336032499600186, 'params': {'degree': 1.4427104361927297}},\n",
       " {'target': 0.6425899733781657, 'params': {'degree': 13.448219968887441}},\n",
       " {'target': 0.64253351425576, 'params': {'degree': 20.988558640921553}},\n",
       " {'target': 0.64253351425576, 'params': {'degree': 20.987886038889698}},\n",
       " {'target': 0.64253351425576, 'params': {'degree': 20.986481121465882}},\n",
       " {'target': 0.6425399145196373, 'params': {'degree': 12.158561527801956}},\n",
       " {'target': 0.64253351425576, 'params': {'degree': 20.98963887012126}}]"
      ]
     },
     "execution_count": 14,
     "metadata": {},
     "output_type": "execute_result"
    }
   ],
   "source": [
    "wcBO.res"
   ]
  },
  {
   "cell_type": "code",
   "execution_count": 15,
   "metadata": {},
   "outputs": [
    {
     "data": {
      "text/plain": [
       "{'target': 0.642602232362902, 'params': {'degree': 15.536339630374894}}"
      ]
     },
     "execution_count": 15,
     "metadata": {},
     "output_type": "execute_result"
    }
   ],
   "source": [
    "wcBO.res[2]"
   ]
  },
  {
   "cell_type": "code",
   "execution_count": 16,
   "metadata": {},
   "outputs": [
    {
     "name": "stdout",
     "output_type": "stream",
     "text": [
      "R2s: [0.63335123 0.65171926]\n"
     ]
    }
   ],
   "source": [
    "#Declare model\n",
    "model_wc=WienerCascadeDecoder(degree=16)\n",
    "\n",
    "#Fit model\n",
    "model_wc.fit(X_flat_train,y_train)\n",
    "\n",
    "#Get predictions\n",
    "y_valid_predicted_wc=model_wc.predict(X_flat_valid)\n",
    "\n",
    "#Get metric of fit\n",
    "R2s_wc=get_R2(y_valid,y_valid_predicted_wc)\n",
    "print('R2s:', R2s_wc)"
   ]
  },
  {
   "cell_type": "code",
   "execution_count": 44,
   "metadata": {},
   "outputs": [],
   "source": [
    "import scipy.io as sio\n",
    "sio.savemat('decoding_data_1600ms_wc_optimized_pa29.mat',{'y_valid': y_valid,'y_train_mean': y_train_mean, 'y_valid_predicted_wc': y_valid_predicted_wc,'R2s_wc':R2s_wc, 'wcBO':wcBO})"
   ]
  },
  {
   "cell_type": "code",
   "execution_count": 12,
   "metadata": {
    "scrolled": true
   },
   "outputs": [
    {
     "name": "stderr",
     "output_type": "stream",
     "text": [
      "/Users/liubing/opt/anaconda3/lib/python3.7/site-packages/xgboost/core.py:613: UserWarning: Use subset (sliced data) of np.ndarray is not recommended because it will generate extra copies and increase memory consumption\n",
      "  warnings.warn(\"Use subset (sliced data) of np.ndarray is not recommended \" +\n"
     ]
    },
    {
     "name": "stdout",
     "output_type": "stream",
     "text": [
      "R2s: [0.66779588 0.6541842 ]\n"
     ]
    }
   ],
   "source": [
    "#Declare model\n",
    "model_xgb=XGBoostDecoder(max_depth=3,num_round=200,eta=0.3,gpu=-1) \n",
    "\n",
    "#Fit model\n",
    "model_xgb.fit(X_flat_train, y_train)\n",
    "\n",
    "#Get predictions\n",
    "y_valid_predicted_xgb=model_xgb.predict(X_flat_valid)\n",
    "\n",
    "#Get metric of fit\n",
    "R2s_xgb=get_R2(y_valid,y_valid_predicted_xgb)\n",
    "print('R2s:', R2s_xgb)"
   ]
  },
  {
   "cell_type": "code",
   "execution_count": 45,
   "metadata": {},
   "outputs": [],
   "source": [
    "def xgb_evaluate(max_depth,num_round,eta):\n",
    "    #The parameters need to be in the correct format for the decoder, so we do that below\n",
    "    max_depth=int(max_depth) \n",
    "    num_round=int(num_round) \n",
    "    eta=float(eta) \n",
    "    #Define model\n",
    "    model_xgb=XGBoostDecoder(max_depth=max_depth, num_round=num_round, eta=eta) \n",
    "    model_xgb.fit(X_flat_train,y_train) #Fit model\n",
    "    y_valid_predicted_xgb=model_xgb.predict(X_flat_valid) #Get validation set predictions\n",
    "    return np.mean(get_R2(y_valid,y_valid_predicted_xgb)) #Return mean validation set R2"
   ]
  },
  {
   "cell_type": "code",
   "execution_count": 46,
   "metadata": {},
   "outputs": [
    {
     "name": "stderr",
     "output_type": "stream",
     "text": [
      "/Users/liubing/opt/anaconda3/lib/python3.7/site-packages/xgboost/core.py:613: UserWarning: Use subset (sliced data) of np.ndarray is not recommended because it will generate extra copies and increase memory consumption\n",
      "  warnings.warn(\"Use subset (sliced data) of np.ndarray is not recommended \" +\n",
      "/Users/liubing/opt/anaconda3/lib/python3.7/site-packages/xgboost/core.py:613: UserWarning: Use subset (sliced data) of np.ndarray is not recommended because it will generate extra copies and increase memory consumption\n",
      "  warnings.warn(\"Use subset (sliced data) of np.ndarray is not recommended \" +\n",
      "/Users/liubing/opt/anaconda3/lib/python3.7/site-packages/xgboost/core.py:613: UserWarning: Use subset (sliced data) of np.ndarray is not recommended because it will generate extra copies and increase memory consumption\n",
      "  warnings.warn(\"Use subset (sliced data) of np.ndarray is not recommended \" +\n",
      "/Users/liubing/opt/anaconda3/lib/python3.7/site-packages/xgboost/core.py:613: UserWarning: Use subset (sliced data) of np.ndarray is not recommended because it will generate extra copies and increase memory consumption\n",
      "  warnings.warn(\"Use subset (sliced data) of np.ndarray is not recommended \" +\n",
      "/Users/liubing/opt/anaconda3/lib/python3.7/site-packages/xgboost/core.py:613: UserWarning: Use subset (sliced data) of np.ndarray is not recommended because it will generate extra copies and increase memory consumption\n",
      "  warnings.warn(\"Use subset (sliced data) of np.ndarray is not recommended \" +\n",
      "/Users/liubing/opt/anaconda3/lib/python3.7/site-packages/xgboost/core.py:613: UserWarning: Use subset (sliced data) of np.ndarray is not recommended because it will generate extra copies and increase memory consumption\n",
      "  warnings.warn(\"Use subset (sliced data) of np.ndarray is not recommended \" +\n",
      "/Users/liubing/opt/anaconda3/lib/python3.7/site-packages/xgboost/core.py:613: UserWarning: Use subset (sliced data) of np.ndarray is not recommended because it will generate extra copies and increase memory consumption\n",
      "  warnings.warn(\"Use subset (sliced data) of np.ndarray is not recommended \" +\n",
      "/Users/liubing/opt/anaconda3/lib/python3.7/site-packages/xgboost/core.py:613: UserWarning: Use subset (sliced data) of np.ndarray is not recommended because it will generate extra copies and increase memory consumption\n",
      "  warnings.warn(\"Use subset (sliced data) of np.ndarray is not recommended \" +\n",
      "/Users/liubing/opt/anaconda3/lib/python3.7/site-packages/xgboost/core.py:613: UserWarning: Use subset (sliced data) of np.ndarray is not recommended because it will generate extra copies and increase memory consumption\n",
      "  warnings.warn(\"Use subset (sliced data) of np.ndarray is not recommended \" +\n",
      "/Users/liubing/opt/anaconda3/lib/python3.7/site-packages/xgboost/core.py:613: UserWarning: Use subset (sliced data) of np.ndarray is not recommended because it will generate extra copies and increase memory consumption\n",
      "  warnings.warn(\"Use subset (sliced data) of np.ndarray is not recommended \" +\n",
      "/Users/liubing/opt/anaconda3/lib/python3.7/site-packages/xgboost/core.py:613: UserWarning: Use subset (sliced data) of np.ndarray is not recommended because it will generate extra copies and increase memory consumption\n",
      "  warnings.warn(\"Use subset (sliced data) of np.ndarray is not recommended \" +\n"
     ]
    }
   ],
   "source": [
    "#Do bayesian optimization, and set limits of hyperparameters\n",
    "xgbBO = BayesianOptimization(xgb_evaluate, {'max_depth': (2, 6.99), 'num_round': (100,600.99), 'eta': (0.01, 0.8)},verbose=0) #Define Bayesian optimization, and set limits of hyperparameters    \n",
    "#Set number of initial runs and subsequent tests, and do the optimization. Also, we set kappa=10 (greater than the default) so there is more exploration when there are more hyperparameters\n",
    "xgbBO.maximize(init_points=10, n_iter=10, kappa=10)"
   ]
  },
  {
   "cell_type": "code",
   "execution_count": 47,
   "metadata": {},
   "outputs": [
    {
     "data": {
      "text/plain": [
       "[{'target': 0.660460603328515,\n",
       "  'params': {'eta': 0.379110794719938,\n",
       "   'max_depth': 5.052430008755403,\n",
       "   'num_round': 315.5680333315837}},\n",
       " {'target': 0.6679004293279232,\n",
       "  'params': {'eta': 0.35590814328346093,\n",
       "   'max_depth': 5.81698221712522,\n",
       "   'num_round': 297.7974269781441}},\n",
       " {'target': 0.6623114467703424,\n",
       "  'params': {'eta': 0.5196495556058027,\n",
       "   'max_depth': 2.669593775910279,\n",
       "   'num_round': 448.87691274699574}},\n",
       " {'target': 0.6385917919462357,\n",
       "  'params': {'eta': 0.43364154153058276,\n",
       "   'max_depth': 6.767307440131784,\n",
       "   'num_round': 371.58348442114686}},\n",
       " {'target': 0.6730935870470531,\n",
       "  'params': {'eta': 0.3067448018310464,\n",
       "   'max_depth': 6.448213163569953,\n",
       "   'num_round': 511.2402069696315}},\n",
       " {'target': 0.6187871903759039,\n",
       "  'params': {'eta': 0.7169857126105803,\n",
       "   'max_depth': 4.831377082045835,\n",
       "   'num_round': 101.1110078185545}},\n",
       " {'target': 0.6719355852350748,\n",
       "  'params': {'eta': 0.34908842444350885,\n",
       "   'max_depth': 4.491016683870578,\n",
       "   'num_round': 307.6169640034346}},\n",
       " {'target': 0.647788548281682,\n",
       "  'params': {'eta': 0.5829563904096131,\n",
       "   'max_depth': 3.9296935994010753,\n",
       "   'num_round': 196.34434486754782}},\n",
       " {'target': 0.6441461014123311,\n",
       "  'params': {'eta': 0.01879991431137709,\n",
       "   'max_depth': 4.444629208261745,\n",
       "   'num_round': 568.1027982491867}},\n",
       " {'target': 0.6611888335811719,\n",
       "  'params': {'eta': 0.6330983595406761,\n",
       "   'max_depth': 2.168383076486494,\n",
       "   'num_round': 461.487905195065}},\n",
       " {'target': 0.6955750835008261,\n",
       "  'params': {'eta': 0.234729595753257,\n",
       "   'max_depth': 6.898218245472424,\n",
       "   'num_round': 600.9777304099216}},\n",
       " {'target': 0.2869641061395349,\n",
       "  'params': {'eta': 0.011073018305992239,\n",
       "   'max_depth': 2.0994310599552946,\n",
       "   'num_round': 142.74272128099142}},\n",
       " {'target': 0.6492328964588242,\n",
       "  'params': {'eta': 0.5066205067894752,\n",
       "   'max_depth': 2.0534226768079376,\n",
       "   'num_round': 243.14816708222955}},\n",
       " {'target': 0.6610261577422012,\n",
       "  'params': {'eta': 0.31765924479185725,\n",
       "   'max_depth': 2.046237359541861,\n",
       "   'num_round': 404.0770917184511}},\n",
       " {'target': 0.6926371145685403,\n",
       "  'params': {'eta': 0.14909712911995063,\n",
       "   'max_depth': 3.2744351051251233,\n",
       "   'num_round': 599.6609157370644}},\n",
       " {'target': 0.6438260567697115,\n",
       "  'params': {'eta': 0.8, 'max_depth': 2.0, 'num_round': 535.6321027143391}},\n",
       " {'target': 0.6433884925354669,\n",
       "  'params': {'eta': 0.4044818964766404,\n",
       "   'max_depth': 6.972618721601946,\n",
       "   'num_round': 221.88508312644265}},\n",
       " {'target': 0.6539289166591984,\n",
       "  'params': {'eta': 0.1918098156923177,\n",
       "   'max_depth': 2.0238946170287027,\n",
       "   'num_round': 351.0815180586403}},\n",
       " {'target': 0.5727246983242127,\n",
       "  'params': {'eta': 0.5889254268511113,\n",
       "   'max_depth': 6.934285821567205,\n",
       "   'num_round': 423.1512952472804}},\n",
       " {'target': 0.6665586951561697,\n",
       "  'params': {'eta': 0.5255384763344947,\n",
       "   'max_depth': 2.111086439939104,\n",
       "   'num_round': 498.55781508388657}}]"
      ]
     },
     "execution_count": 47,
     "metadata": {},
     "output_type": "execute_result"
    }
   ],
   "source": [
    "xgbBO.res"
   ]
  },
  {
   "cell_type": "code",
   "execution_count": 48,
   "metadata": {},
   "outputs": [
    {
     "data": {
      "text/plain": [
       "{'target': 0.6955750835008261,\n",
       " 'params': {'eta': 0.234729595753257,\n",
       "  'max_depth': 6.898218245472424,\n",
       "  'num_round': 600.9777304099216}}"
      ]
     },
     "execution_count": 48,
     "metadata": {},
     "output_type": "execute_result"
    }
   ],
   "source": [
    "xgbBO.res[10]"
   ]
  },
  {
   "cell_type": "code",
   "execution_count": 50,
   "metadata": {},
   "outputs": [
    {
     "name": "stdout",
     "output_type": "stream",
     "text": [
      "R2s: [0.6912863  0.67945068]\n"
     ]
    }
   ],
   "source": [
    "#Declare model\n",
    "model_xgb=XGBoostDecoder(max_depth=7,num_round=600,eta=0.23,gpu=-1) \n",
    "\n",
    "#Fit model\n",
    "model_xgb.fit(X_flat_train, y_train)\n",
    "\n",
    "#Get predictions\n",
    "y_valid_predicted_xgb=model_xgb.predict(X_flat_valid)\n",
    "\n",
    "#Get metric of fit\n",
    "R2s_xgb=get_R2(y_valid,y_valid_predicted_xgb)\n",
    "print('R2s:', R2s_xgb)"
   ]
  },
  {
   "cell_type": "code",
   "execution_count": 51,
   "metadata": {},
   "outputs": [],
   "source": [
    "import scipy.io as sio\n",
    "sio.savemat('decoding_data_1600ms_xgb_optimized_pa29.mat',{'y_valid': y_valid,'y_train_mean': y_train_mean, 'y_valid_predicted_xgb': y_valid_predicted_xgb,'R2s_xgb':R2s_xgb,'xgbBO':xgbBO})"
   ]
  },
  {
   "cell_type": "code",
   "execution_count": 13,
   "metadata": {},
   "outputs": [
    {
     "name": "stderr",
     "output_type": "stream",
     "text": [
      "/Users/liubing/opt/anaconda3/lib/python3.7/site-packages/sklearn/svm/_base.py:231: ConvergenceWarning: Solver terminated early (max_iter=4000).  Consider pre-processing your data with StandardScaler or MinMaxScaler.\n",
      "  % self.max_iter, ConvergenceWarning)\n",
      "/Users/liubing/opt/anaconda3/lib/python3.7/site-packages/sklearn/svm/_base.py:231: ConvergenceWarning: Solver terminated early (max_iter=4000).  Consider pre-processing your data with StandardScaler or MinMaxScaler.\n",
      "  % self.max_iter, ConvergenceWarning)\n"
     ]
    },
    {
     "name": "stdout",
     "output_type": "stream",
     "text": [
      "R2s: [0.74678399 0.72361339]\n"
     ]
    }
   ],
   "source": [
    "#The SVR works much better when the y values are normalized, so we first z-score the y values\n",
    "#They have previously been zero-centered, so we will just divide by the stdev (of the training set)\n",
    "y_train_std=np.nanstd(y_train,axis=0)\n",
    "y_zscore_train=y_train/y_train_std\n",
    "y_zscore_test=y_test/y_train_std\n",
    "y_zscore_valid=y_valid/y_train_std\n",
    "\n",
    "#Declare model\n",
    "model_svr=SVRDecoder(C=5, max_iter=4000)\n",
    "\n",
    "#Fit model\n",
    "model_svr.fit(X_flat_train,y_zscore_train)\n",
    "\n",
    "#Get predictions\n",
    "y_zscore_valid_predicted_svr=model_svr.predict(X_flat_valid)\n",
    "\n",
    "#Get metric of fit\n",
    "R2s_svr=get_R2(y_zscore_valid,y_zscore_valid_predicted_svr)\n",
    "print('R2s:', R2s_svr)"
   ]
  },
  {
   "cell_type": "code",
   "execution_count": 56,
   "metadata": {},
   "outputs": [],
   "source": [
    "import scipy.io as sio\n",
    "sio.savemat('decoding_data_1600ms_svr_.mat',{'y_valid': y_valid,'y_train_mean': y_train_mean, 'y_zscore_valid_predicted_svr': y_zscore_valid_predicted_svr,'R2s_svr':R2s_svr,'svrBO':svrBO})"
   ]
  },
  {
   "cell_type": "code",
   "execution_count": 52,
   "metadata": {},
   "outputs": [],
   "source": [
    "def svr_evaluate(C,max_iter):\n",
    "    #The parameters need to be in the correct format for the decoder, so we do that below\n",
    "    C=int(C) \n",
    "    max_iter=int(max_iter) \n",
    "    #Define model\n",
    "    model_svr=SVRDecoder(C=C, max_iter=max_iter) \n",
    "    model_svr.fit(X_flat_train,y_zscore_train) #Fit model\n",
    "    y_zscore_valid_predicted_svr=model_svr.predict(X_flat_valid) #Get validation set predictions\n",
    "    return np.mean(get_R2(y_zscore_valid,y_zscore_valid_predicted_svr)) #Return mean validation set R2"
   ]
  },
  {
   "cell_type": "code",
   "execution_count": 53,
   "metadata": {},
   "outputs": [
    {
     "name": "stderr",
     "output_type": "stream",
     "text": [
      "/Users/liubing/opt/anaconda3/lib/python3.7/site-packages/sklearn/svm/_base.py:231: ConvergenceWarning: Solver terminated early (max_iter=284).  Consider pre-processing your data with StandardScaler or MinMaxScaler.\n",
      "  % self.max_iter, ConvergenceWarning)\n",
      "/Users/liubing/opt/anaconda3/lib/python3.7/site-packages/sklearn/svm/_base.py:231: ConvergenceWarning: Solver terminated early (max_iter=284).  Consider pre-processing your data with StandardScaler or MinMaxScaler.\n",
      "  % self.max_iter, ConvergenceWarning)\n",
      "/Users/liubing/opt/anaconda3/lib/python3.7/site-packages/sklearn/svm/_base.py:231: ConvergenceWarning: Solver terminated early (max_iter=106).  Consider pre-processing your data with StandardScaler or MinMaxScaler.\n",
      "  % self.max_iter, ConvergenceWarning)\n",
      "/Users/liubing/opt/anaconda3/lib/python3.7/site-packages/sklearn/svm/_base.py:231: ConvergenceWarning: Solver terminated early (max_iter=106).  Consider pre-processing your data with StandardScaler or MinMaxScaler.\n",
      "  % self.max_iter, ConvergenceWarning)\n",
      "/Users/liubing/opt/anaconda3/lib/python3.7/site-packages/sklearn/svm/_base.py:231: ConvergenceWarning: Solver terminated early (max_iter=468).  Consider pre-processing your data with StandardScaler or MinMaxScaler.\n",
      "  % self.max_iter, ConvergenceWarning)\n",
      "/Users/liubing/opt/anaconda3/lib/python3.7/site-packages/sklearn/svm/_base.py:231: ConvergenceWarning: Solver terminated early (max_iter=468).  Consider pre-processing your data with StandardScaler or MinMaxScaler.\n",
      "  % self.max_iter, ConvergenceWarning)\n",
      "/Users/liubing/opt/anaconda3/lib/python3.7/site-packages/sklearn/svm/_base.py:231: ConvergenceWarning: Solver terminated early (max_iter=299).  Consider pre-processing your data with StandardScaler or MinMaxScaler.\n",
      "  % self.max_iter, ConvergenceWarning)\n",
      "/Users/liubing/opt/anaconda3/lib/python3.7/site-packages/sklearn/svm/_base.py:231: ConvergenceWarning: Solver terminated early (max_iter=299).  Consider pre-processing your data with StandardScaler or MinMaxScaler.\n",
      "  % self.max_iter, ConvergenceWarning)\n",
      "/Users/liubing/opt/anaconda3/lib/python3.7/site-packages/sklearn/svm/_base.py:231: ConvergenceWarning: Solver terminated early (max_iter=267).  Consider pre-processing your data with StandardScaler or MinMaxScaler.\n",
      "  % self.max_iter, ConvergenceWarning)\n",
      "/Users/liubing/opt/anaconda3/lib/python3.7/site-packages/sklearn/svm/_base.py:231: ConvergenceWarning: Solver terminated early (max_iter=267).  Consider pre-processing your data with StandardScaler or MinMaxScaler.\n",
      "  % self.max_iter, ConvergenceWarning)\n",
      "/Users/liubing/opt/anaconda3/lib/python3.7/site-packages/sklearn/svm/_base.py:231: ConvergenceWarning: Solver terminated early (max_iter=397).  Consider pre-processing your data with StandardScaler or MinMaxScaler.\n",
      "  % self.max_iter, ConvergenceWarning)\n",
      "/Users/liubing/opt/anaconda3/lib/python3.7/site-packages/sklearn/svm/_base.py:231: ConvergenceWarning: Solver terminated early (max_iter=397).  Consider pre-processing your data with StandardScaler or MinMaxScaler.\n",
      "  % self.max_iter, ConvergenceWarning)\n",
      "/Users/liubing/opt/anaconda3/lib/python3.7/site-packages/sklearn/svm/_base.py:231: ConvergenceWarning: Solver terminated early (max_iter=363).  Consider pre-processing your data with StandardScaler or MinMaxScaler.\n",
      "  % self.max_iter, ConvergenceWarning)\n",
      "/Users/liubing/opt/anaconda3/lib/python3.7/site-packages/sklearn/svm/_base.py:231: ConvergenceWarning: Solver terminated early (max_iter=363).  Consider pre-processing your data with StandardScaler or MinMaxScaler.\n",
      "  % self.max_iter, ConvergenceWarning)\n",
      "/Users/liubing/opt/anaconda3/lib/python3.7/site-packages/sklearn/svm/_base.py:231: ConvergenceWarning: Solver terminated early (max_iter=428).  Consider pre-processing your data with StandardScaler or MinMaxScaler.\n",
      "  % self.max_iter, ConvergenceWarning)\n",
      "/Users/liubing/opt/anaconda3/lib/python3.7/site-packages/sklearn/svm/_base.py:231: ConvergenceWarning: Solver terminated early (max_iter=428).  Consider pre-processing your data with StandardScaler or MinMaxScaler.\n",
      "  % self.max_iter, ConvergenceWarning)\n",
      "/Users/liubing/opt/anaconda3/lib/python3.7/site-packages/sklearn/svm/_base.py:231: ConvergenceWarning: Solver terminated early (max_iter=380).  Consider pre-processing your data with StandardScaler or MinMaxScaler.\n",
      "  % self.max_iter, ConvergenceWarning)\n",
      "/Users/liubing/opt/anaconda3/lib/python3.7/site-packages/sklearn/svm/_base.py:231: ConvergenceWarning: Solver terminated early (max_iter=380).  Consider pre-processing your data with StandardScaler or MinMaxScaler.\n",
      "  % self.max_iter, ConvergenceWarning)\n",
      "/Users/liubing/opt/anaconda3/lib/python3.7/site-packages/sklearn/svm/_base.py:231: ConvergenceWarning: Solver terminated early (max_iter=229).  Consider pre-processing your data with StandardScaler or MinMaxScaler.\n",
      "  % self.max_iter, ConvergenceWarning)\n",
      "/Users/liubing/opt/anaconda3/lib/python3.7/site-packages/sklearn/svm/_base.py:231: ConvergenceWarning: Solver terminated early (max_iter=229).  Consider pre-processing your data with StandardScaler or MinMaxScaler.\n",
      "  % self.max_iter, ConvergenceWarning)\n",
      "/Users/liubing/opt/anaconda3/lib/python3.7/site-packages/sklearn/svm/_base.py:231: ConvergenceWarning: Solver terminated early (max_iter=600).  Consider pre-processing your data with StandardScaler or MinMaxScaler.\n",
      "  % self.max_iter, ConvergenceWarning)\n",
      "/Users/liubing/opt/anaconda3/lib/python3.7/site-packages/sklearn/svm/_base.py:231: ConvergenceWarning: Solver terminated early (max_iter=600).  Consider pre-processing your data with StandardScaler or MinMaxScaler.\n",
      "  % self.max_iter, ConvergenceWarning)\n",
      "/Users/liubing/opt/anaconda3/lib/python3.7/site-packages/sklearn/svm/_base.py:231: ConvergenceWarning: Solver terminated early (max_iter=548).  Consider pre-processing your data with StandardScaler or MinMaxScaler.\n",
      "  % self.max_iter, ConvergenceWarning)\n",
      "/Users/liubing/opt/anaconda3/lib/python3.7/site-packages/sklearn/svm/_base.py:231: ConvergenceWarning: Solver terminated early (max_iter=548).  Consider pre-processing your data with StandardScaler or MinMaxScaler.\n",
      "  % self.max_iter, ConvergenceWarning)\n",
      "/Users/liubing/opt/anaconda3/lib/python3.7/site-packages/sklearn/svm/_base.py:231: ConvergenceWarning: Solver terminated early (max_iter=164).  Consider pre-processing your data with StandardScaler or MinMaxScaler.\n",
      "  % self.max_iter, ConvergenceWarning)\n",
      "/Users/liubing/opt/anaconda3/lib/python3.7/site-packages/sklearn/svm/_base.py:231: ConvergenceWarning: Solver terminated early (max_iter=164).  Consider pre-processing your data with StandardScaler or MinMaxScaler.\n",
      "  % self.max_iter, ConvergenceWarning)\n",
      "/Users/liubing/opt/anaconda3/lib/python3.7/site-packages/sklearn/svm/_base.py:231: ConvergenceWarning: Solver terminated early (max_iter=579).  Consider pre-processing your data with StandardScaler or MinMaxScaler.\n",
      "  % self.max_iter, ConvergenceWarning)\n",
      "/Users/liubing/opt/anaconda3/lib/python3.7/site-packages/sklearn/svm/_base.py:231: ConvergenceWarning: Solver terminated early (max_iter=579).  Consider pre-processing your data with StandardScaler or MinMaxScaler.\n",
      "  % self.max_iter, ConvergenceWarning)\n",
      "/Users/liubing/opt/anaconda3/lib/python3.7/site-packages/sklearn/svm/_base.py:231: ConvergenceWarning: Solver terminated early (max_iter=517).  Consider pre-processing your data with StandardScaler or MinMaxScaler.\n",
      "  % self.max_iter, ConvergenceWarning)\n",
      "/Users/liubing/opt/anaconda3/lib/python3.7/site-packages/sklearn/svm/_base.py:231: ConvergenceWarning: Solver terminated early (max_iter=517).  Consider pre-processing your data with StandardScaler or MinMaxScaler.\n",
      "  % self.max_iter, ConvergenceWarning)\n",
      "/Users/liubing/opt/anaconda3/lib/python3.7/site-packages/sklearn/svm/_base.py:231: ConvergenceWarning: Solver terminated early (max_iter=344).  Consider pre-processing your data with StandardScaler or MinMaxScaler.\n",
      "  % self.max_iter, ConvergenceWarning)\n",
      "/Users/liubing/opt/anaconda3/lib/python3.7/site-packages/sklearn/svm/_base.py:231: ConvergenceWarning: Solver terminated early (max_iter=344).  Consider pre-processing your data with StandardScaler or MinMaxScaler.\n",
      "  % self.max_iter, ConvergenceWarning)\n",
      "/Users/liubing/opt/anaconda3/lib/python3.7/site-packages/sklearn/svm/_base.py:231: ConvergenceWarning: Solver terminated early (max_iter=582).  Consider pre-processing your data with StandardScaler or MinMaxScaler.\n",
      "  % self.max_iter, ConvergenceWarning)\n"
     ]
    },
    {
     "name": "stderr",
     "output_type": "stream",
     "text": [
      "/Users/liubing/opt/anaconda3/lib/python3.7/site-packages/sklearn/svm/_base.py:231: ConvergenceWarning: Solver terminated early (max_iter=582).  Consider pre-processing your data with StandardScaler or MinMaxScaler.\n",
      "  % self.max_iter, ConvergenceWarning)\n",
      "/Users/liubing/opt/anaconda3/lib/python3.7/site-packages/sklearn/svm/_base.py:231: ConvergenceWarning: Solver terminated early (max_iter=495).  Consider pre-processing your data with StandardScaler or MinMaxScaler.\n",
      "  % self.max_iter, ConvergenceWarning)\n",
      "/Users/liubing/opt/anaconda3/lib/python3.7/site-packages/sklearn/svm/_base.py:231: ConvergenceWarning: Solver terminated early (max_iter=495).  Consider pre-processing your data with StandardScaler or MinMaxScaler.\n",
      "  % self.max_iter, ConvergenceWarning)\n",
      "/Users/liubing/opt/anaconda3/lib/python3.7/site-packages/sklearn/svm/_base.py:231: ConvergenceWarning: Solver terminated early (max_iter=599).  Consider pre-processing your data with StandardScaler or MinMaxScaler.\n",
      "  % self.max_iter, ConvergenceWarning)\n",
      "/Users/liubing/opt/anaconda3/lib/python3.7/site-packages/sklearn/svm/_base.py:231: ConvergenceWarning: Solver terminated early (max_iter=599).  Consider pre-processing your data with StandardScaler or MinMaxScaler.\n",
      "  % self.max_iter, ConvergenceWarning)\n",
      "/Users/liubing/opt/anaconda3/lib/python3.7/site-packages/sklearn/svm/_base.py:231: ConvergenceWarning: Solver terminated early (max_iter=149).  Consider pre-processing your data with StandardScaler or MinMaxScaler.\n",
      "  % self.max_iter, ConvergenceWarning)\n",
      "/Users/liubing/opt/anaconda3/lib/python3.7/site-packages/sklearn/svm/_base.py:231: ConvergenceWarning: Solver terminated early (max_iter=149).  Consider pre-processing your data with StandardScaler or MinMaxScaler.\n",
      "  % self.max_iter, ConvergenceWarning)\n"
     ]
    }
   ],
   "source": [
    "#Do bayesian optimization, and set limits of hyperparameters\n",
    "svrBO = BayesianOptimization(svr_evaluate, {'C': (2, 6.99), 'max_iter': (100,600.99)},verbose=0) #Define Bayesian optimization, and set limits of hyperparameters    \n",
    "#Set number of initial runs and subsequent tests, and do the optimization. Also, we set kappa=10 (greater than the default) so there is more exploration when there are more hyperparameters\n",
    "svrBO.maximize(init_points=10, n_iter=10, kappa=10)"
   ]
  },
  {
   "cell_type": "code",
   "execution_count": 54,
   "metadata": {},
   "outputs": [
    {
     "data": {
      "text/plain": [
       "[{'target': 0.5947218286163267,\n",
       "  'params': {'C': 5.427198816006814, 'max_iter': 284.2647640364906}},\n",
       " {'target': 0.4752108435142605,\n",
       "  'params': {'C': 2.837111513219895, 'max_iter': 106.95466918505709}},\n",
       " {'target': 0.6187365212535356,\n",
       "  'params': {'C': 3.2370247515364, 'max_iter': 468.03354951900104}},\n",
       " {'target': 0.5943920573421838,\n",
       "  'params': {'C': 4.505629440640794, 'max_iter': 299.1269254841039}},\n",
       " {'target': 0.5953301818094847,\n",
       "  'params': {'C': 5.5907519065427955, 'max_iter': 267.61522819519786}},\n",
       " {'target': 0.6123926953506049,\n",
       "  'params': {'C': 4.958283236468778, 'max_iter': 397.7416461560001}},\n",
       " {'target': 0.6026652755113804,\n",
       "  'params': {'C': 2.4232636656905693, 'max_iter': 363.0762000000503}},\n",
       " {'target': 0.6207180390668606,\n",
       "  'params': {'C': 4.438194020221816, 'max_iter': 428.5361946711224}},\n",
       " {'target': 0.5992547726390417,\n",
       "  'params': {'C': 3.0491401619785172, 'max_iter': 380.2883766156845}},\n",
       " {'target': 0.5633416739923895,\n",
       "  'params': {'C': 2.0501270863503303, 'max_iter': 229.45589070169808}},\n",
       " {'target': 0.6328634210866916,\n",
       "  'params': {'C': 6.711061031398055, 'max_iter': 600.9826967644501}},\n",
       " {'target': 0.6321514057671012,\n",
       "  'params': {'C': 6.943705563840983, 'max_iter': 548.8265636054439}},\n",
       " {'target': 0.552141839554715,\n",
       "  'params': {'C': 6.980615771556998, 'max_iter': 164.96360749754126}},\n",
       " {'target': 0.6329663804860306,\n",
       "  'params': {'C': 2.022579127598279, 'max_iter': 579.5951604692436}},\n",
       " {'target': 0.6273173014064861,\n",
       "  'params': {'C': 2.0389119745910382, 'max_iter': 517.0685580468055}},\n",
       " {'target': 0.5998250356930367,\n",
       "  'params': {'C': 6.974696436748999, 'max_iter': 344.2671530114494}},\n",
       " {'target': 0.6305423680612537,\n",
       "  'params': {'C': 5.360787163521914, 'max_iter': 582.0808493396628}},\n",
       " {'target': 0.6227379547041708,\n",
       "  'params': {'C': 6.9151116476305505, 'max_iter': 495.5837854861337}},\n",
       " {'target': 0.6364065440020894,\n",
       "  'params': {'C': 2.0026805746055207, 'max_iter': 599.8977551952376}},\n",
       " {'target': 0.5275658995960237,\n",
       "  'params': {'C': 2.075910291065655, 'max_iter': 149.8854527573663}}]"
      ]
     },
     "execution_count": 54,
     "metadata": {},
     "output_type": "execute_result"
    }
   ],
   "source": [
    "svrBO.res"
   ]
  },
  {
   "cell_type": "code",
   "execution_count": 55,
   "metadata": {},
   "outputs": [
    {
     "data": {
      "text/plain": [
       "{'target': 0.6364065440020894,\n",
       " 'params': {'C': 2.0026805746055207, 'max_iter': 599.8977551952376}}"
      ]
     },
     "execution_count": 55,
     "metadata": {},
     "output_type": "execute_result"
    }
   ],
   "source": [
    "svrBO.res[18]"
   ]
  },
  {
   "cell_type": "code",
   "execution_count": null,
   "metadata": {},
   "outputs": [],
   "source": []
  },
  {
   "cell_type": "code",
   "execution_count": null,
   "metadata": {},
   "outputs": [],
   "source": []
  },
  {
   "cell_type": "code",
   "execution_count": 15,
   "metadata": {},
   "outputs": [
    {
     "name": "stdout",
     "output_type": "stream",
     "text": [
      "R2s: [0.78923564 0.77353702]\n"
     ]
    }
   ],
   "source": [
    "#Declare model\n",
    "model_dnn=DenseNNDecoder(units=400,dropout=0.25,num_epochs=10)\n",
    "\n",
    "#Fit model\n",
    "model_dnn.fit(X_flat_train,y_train)\n",
    "\n",
    "#Get predictions\n",
    "y_valid_predicted_dnn=model_dnn.predict(X_flat_valid)\n",
    "\n",
    "#Get metric of fit\n",
    "R2s_dnn=get_R2(y_valid,y_valid_predicted_dnn)\n",
    "print('R2s:', R2s_dnn)"
   ]
  },
  {
   "cell_type": "code",
   "execution_count": 16,
   "metadata": {},
   "outputs": [],
   "source": [
    "import scipy.io as sio\n",
    "sio.savemat('decoding_data_1600ms_dnn_optimized_pa29.mat',{'y_valid': y_valid,'y_train_mean': y_train_mean, 'y_valid_predicted_dnn': y_valid_predicted_dnn,'R2s_dnn':R2s_dnn, 'dnnBO':dnnBO})"
   ]
  },
  {
   "cell_type": "code",
   "execution_count": 8,
   "metadata": {},
   "outputs": [],
   "source": [
    "def dnn_evaluate(num_units,frac_dropout,n_epochs):\n",
    "    #The parameters need to be in the correct format for the decoder, so we do that below\n",
    "    num_units=int(num_units)\n",
    "    frac_dropout=float(frac_dropout)\n",
    "    n_epochs=int(n_epochs)\n",
    "    #Declare and fit decoder\n",
    "    model_dnn=DenseNNDecoder(units=[num_units,num_units],dropout=frac_dropout,num_epochs=n_epochs)\n",
    "    model_dnn.fit(X_flat_train,y_train)\n",
    "    #Make predictions and get R2 values on validation set\n",
    "    y_valid_predicted_dnn=model_dnn.predict(X_flat_valid)\n",
    "    return np.mean(get_R2(y_valid,y_valid_predicted_dnn))"
   ]
  },
  {
   "cell_type": "code",
   "execution_count": 11,
   "metadata": {},
   "outputs": [
    {
     "name": "stderr",
     "output_type": "stream",
     "text": [
      "/Users/liubing/opt/anaconda3/lib/python3.7/site-packages/Neural_Decoding/decoders.py:391: UserWarning: The `nb_epoch` argument in `fit` has been renamed `epochs`.\n",
      "  model.fit(X_flat_train,y_train,nb_epoch=self.num_epochs,verbose=self.verbose) #Fit the model\n",
      "/Users/liubing/opt/anaconda3/lib/python3.7/site-packages/Neural_Decoding/decoders.py:391: UserWarning: The `nb_epoch` argument in `fit` has been renamed `epochs`.\n",
      "  model.fit(X_flat_train,y_train,nb_epoch=self.num_epochs,verbose=self.verbose) #Fit the model\n",
      "/Users/liubing/opt/anaconda3/lib/python3.7/site-packages/Neural_Decoding/decoders.py:391: UserWarning: The `nb_epoch` argument in `fit` has been renamed `epochs`.\n",
      "  model.fit(X_flat_train,y_train,nb_epoch=self.num_epochs,verbose=self.verbose) #Fit the model\n",
      "/Users/liubing/opt/anaconda3/lib/python3.7/site-packages/Neural_Decoding/decoders.py:391: UserWarning: The `nb_epoch` argument in `fit` has been renamed `epochs`.\n",
      "  model.fit(X_flat_train,y_train,nb_epoch=self.num_epochs,verbose=self.verbose) #Fit the model\n",
      "/Users/liubing/opt/anaconda3/lib/python3.7/site-packages/Neural_Decoding/decoders.py:391: UserWarning: The `nb_epoch` argument in `fit` has been renamed `epochs`.\n",
      "  model.fit(X_flat_train,y_train,nb_epoch=self.num_epochs,verbose=self.verbose) #Fit the model\n",
      "/Users/liubing/opt/anaconda3/lib/python3.7/site-packages/Neural_Decoding/decoders.py:391: UserWarning: The `nb_epoch` argument in `fit` has been renamed `epochs`.\n",
      "  model.fit(X_flat_train,y_train,nb_epoch=self.num_epochs,verbose=self.verbose) #Fit the model\n",
      "/Users/liubing/opt/anaconda3/lib/python3.7/site-packages/Neural_Decoding/decoders.py:391: UserWarning: The `nb_epoch` argument in `fit` has been renamed `epochs`.\n",
      "  model.fit(X_flat_train,y_train,nb_epoch=self.num_epochs,verbose=self.verbose) #Fit the model\n",
      "/Users/liubing/opt/anaconda3/lib/python3.7/site-packages/Neural_Decoding/decoders.py:391: UserWarning: The `nb_epoch` argument in `fit` has been renamed `epochs`.\n",
      "  model.fit(X_flat_train,y_train,nb_epoch=self.num_epochs,verbose=self.verbose) #Fit the model\n",
      "/Users/liubing/opt/anaconda3/lib/python3.7/site-packages/Neural_Decoding/decoders.py:391: UserWarning: The `nb_epoch` argument in `fit` has been renamed `epochs`.\n",
      "  model.fit(X_flat_train,y_train,nb_epoch=self.num_epochs,verbose=self.verbose) #Fit the model\n",
      "/Users/liubing/opt/anaconda3/lib/python3.7/site-packages/Neural_Decoding/decoders.py:391: UserWarning: The `nb_epoch` argument in `fit` has been renamed `epochs`.\n",
      "  model.fit(X_flat_train,y_train,nb_epoch=self.num_epochs,verbose=self.verbose) #Fit the model\n",
      "/Users/liubing/opt/anaconda3/lib/python3.7/site-packages/Neural_Decoding/decoders.py:391: UserWarning: The `nb_epoch` argument in `fit` has been renamed `epochs`.\n",
      "  model.fit(X_flat_train,y_train,nb_epoch=self.num_epochs,verbose=self.verbose) #Fit the model\n"
     ]
    }
   ],
   "source": [
    "#Do bayesian optimization, and set limits of hyperparameters\n",
    "dnnBO = BayesianOptimization(dnn_evaluate, {'num_units': (50, 700.99), 'frac_dropout': (0,.5), 'n_epochs': (2,15.99)},verbose=0)\n",
    "\n",
    "#Set number of initial runs (init_points) and subsequent tests (n_iter), and do the optimization\n",
    "#kappa is a parameter that sets exploration vs exploitation in the algorithm - 10 seems to work pretty welldnnBO = BayesianOptimization(dnn_evaluate, {'num_units': (50, 500), 'frac_dropout': (0.,.5), 'n_epochs': (2,15)})\n",
    "dnnBO.maximize(init_points=10, n_iter=10, kappa=10)"
   ]
  },
  {
   "cell_type": "code",
   "execution_count": 12,
   "metadata": {},
   "outputs": [
    {
     "data": {
      "text/plain": [
       "[{'target': 0.8437916058442085,\n",
       "  'params': {'frac_dropout': 0.10152323987572243,\n",
       "   'n_epochs': 3.519978153860275,\n",
       "   'num_units': 318.2244863922437}},\n",
       " {'target': 0.8320179119867661,\n",
       "  'params': {'frac_dropout': 0.3494577392676171,\n",
       "   'n_epochs': 12.007723609671633,\n",
       "   'num_units': 323.2700214240745}},\n",
       " {'target': 0.8526535852865568,\n",
       "  'params': {'frac_dropout': 0.06685519035777349,\n",
       "   'n_epochs': 14.75177705398811,\n",
       "   'num_units': 254.26112769391125}},\n",
       " {'target': 0.8154499853455904,\n",
       "  'params': {'frac_dropout': 0.3890438557523437,\n",
       "   'n_epochs': 4.453225334927227,\n",
       "   'num_units': 366.9376108681472}},\n",
       " {'target': 0.8440442157997549,\n",
       "  'params': {'frac_dropout': 0.03424419366339354,\n",
       "   'n_epochs': 2.6142097451839486,\n",
       "   'num_units': 554.7474533575148}},\n",
       " {'target': 0.8174331895328573,\n",
       "  'params': {'frac_dropout': 0.41186557286958303,\n",
       "   'n_epochs': 9.378863514481317,\n",
       "   'num_units': 239.57618981951637}},\n",
       " {'target': 0.8589480312708299,\n",
       "  'params': {'frac_dropout': 0.047285976162312005,\n",
       "   'n_epochs': 9.34862110380632,\n",
       "   'num_units': 538.6333142975911}},\n",
       " {'target': 0.8071698835579533,\n",
       "  'params': {'frac_dropout': 0.24392166780600283,\n",
       "   'n_epochs': 2.4559557137322727,\n",
       "   'num_units': 56.122668270974415}},\n",
       " {'target': 0.8385470476313326,\n",
       "  'params': {'frac_dropout': 0.4147813865214522,\n",
       "   'n_epochs': 14.950168723199905,\n",
       "   'num_units': 573.2237679041139}},\n",
       " {'target': 0.7868309391833855,\n",
       "  'params': {'frac_dropout': 0.4981385863299926,\n",
       "   'n_epochs': 11.866149045907356,\n",
       "   'num_units': 422.7130858767591}},\n",
       " {'target': 0.8562427148247194,\n",
       "  'params': {'frac_dropout': 0.1145617077602793,\n",
       "   'n_epochs': 12.798619339082418,\n",
       "   'num_units': 536.1094424281807}},\n",
       " {'target': 0.8505875621470578,\n",
       "  'params': {'frac_dropout': 0.2011054369906139,\n",
       "   'n_epochs': 5.739814246847543,\n",
       "   'num_units': 700.8925709844585}},\n",
       " {'target': 0.8358231098141692,\n",
       "  'params': {'frac_dropout': 0.20193798437710625,\n",
       "   'n_epochs': 15.936358846467295,\n",
       "   'num_units': 125.13899965187245}},\n",
       " {'target': 0.8567256070177347,\n",
       "  'params': {'frac_dropout': 0.08760775869023602,\n",
       "   'n_epochs': 8.820742107288368,\n",
       "   'num_units': 533.9973708252035}},\n",
       " {'target': 0.8221901625808936,\n",
       "  'params': {'frac_dropout': 0.2686103541534215,\n",
       "   'n_epochs': 15.520369865388489,\n",
       "   'num_units': 50.648833637232244}},\n",
       " {'target': 0.8445252103342743,\n",
       "  'params': {'frac_dropout': 0.07882363939485276,\n",
       "   'n_epochs': 2.1507211377641124,\n",
       "   'num_units': 650.5919188278948}},\n",
       " {'target': 0.8558273285140761,\n",
       "  'params': {'frac_dropout': 0.1259138047612129,\n",
       "   'n_epochs': 15.955592122330991,\n",
       "   'num_units': 678.0137561246296}},\n",
       " {'target': 0.8120807377876194,\n",
       "  'params': {'frac_dropout': 0.46453445857897874,\n",
       "   'n_epochs': 15.940191302190652,\n",
       "   'num_units': 184.17287650571603}},\n",
       " {'target': 0.8322862592180751,\n",
       "  'params': {'frac_dropout': 0.22017824460464325,\n",
       "   'n_epochs': 2.0203730768501615,\n",
       "   'num_units': 471.17652036074924}},\n",
       " {'target': 0.8272575131699393,\n",
       "  'params': {'frac_dropout': 0.1112936299131716,\n",
       "   'n_epochs': 2.1204638119215513,\n",
       "   'num_units': 147.0756541779362}}]"
      ]
     },
     "execution_count": 12,
     "metadata": {},
     "output_type": "execute_result"
    }
   ],
   "source": [
    "dnnBO.res"
   ]
  },
  {
   "cell_type": "code",
   "execution_count": 13,
   "metadata": {},
   "outputs": [
    {
     "data": {
      "text/plain": [
       "{'target': 0.8589480312708299,\n",
       " 'params': {'frac_dropout': 0.047285976162312005,\n",
       "  'n_epochs': 9.34862110380632,\n",
       "  'num_units': 538.6333142975911}}"
      ]
     },
     "execution_count": 13,
     "metadata": {},
     "output_type": "execute_result"
    }
   ],
   "source": [
    "dnnBO.res[6]"
   ]
  },
  {
   "cell_type": "code",
   "execution_count": 14,
   "metadata": {},
   "outputs": [
    {
     "name": "stdout",
     "output_type": "stream",
     "text": [
      "R2s: [0.78225958 0.76259906]\n"
     ]
    }
   ],
   "source": [
    "#Declare model\n",
    "model_dnn=DenseNNDecoder(units=539,dropout=0.05,num_epochs=9)\n",
    "\n",
    "#Fit model\n",
    "model_dnn.fit(X_flat_train,y_train)\n",
    "\n",
    "#Get predictions\n",
    "y_valid_predicted_dnn=model_dnn.predict(X_flat_valid)\n",
    "\n",
    "#Get metric of fit\n",
    "R2s_dnn=get_R2(y_valid,y_valid_predicted_dnn)\n",
    "print('R2s:', R2s_dnn)"
   ]
  },
  {
   "cell_type": "code",
   "execution_count": null,
   "metadata": {},
   "outputs": [],
   "source": []
  },
  {
   "cell_type": "code",
   "execution_count": 15,
   "metadata": {},
   "outputs": [
    {
     "name": "stderr",
     "output_type": "stream",
     "text": [
      "/Users/liubing/opt/anaconda3/lib/python3.7/site-packages/Neural_Decoding/decoders.py:463: UserWarning: Update your `SimpleRNN` call to the Keras 2 API: `SimpleRNN(400, input_shape=(13, 69), activation=\"relu\", dropout=0, recurrent_dropout=0)`\n",
      "  model.add(SimpleRNN(self.units,input_shape=(X_train.shape[1],X_train.shape[2]),dropout_W=self.dropout,dropout_U=self.dropout,activation='relu')) #Within recurrent layer, include dropout\n",
      "/Users/liubing/opt/anaconda3/lib/python3.7/site-packages/Neural_Decoding/decoders.py:471: UserWarning: The `nb_epoch` argument in `fit` has been renamed `epochs`.\n",
      "  model.fit(X_train,y_train,nb_epoch=self.num_epochs,verbose=self.verbose) #Fit the model\n"
     ]
    },
    {
     "name": "stdout",
     "output_type": "stream",
     "text": [
      "R2s: [0.85131258 0.81510934]\n"
     ]
    }
   ],
   "source": [
    "#Declare model\n",
    "model_rnn=SimpleRNNDecoder(units=400,dropout=0,num_epochs=5)\n",
    "\n",
    "#Fit model\n",
    "model_rnn.fit(X_train,y_train)\n",
    "\n",
    "#Get predictions\n",
    "y_valid_predicted_rnn=model_rnn.predict(X_valid)\n",
    "\n",
    "#Get metric of fit\n",
    "R2s_rnn=get_R2(y_valid,y_valid_predicted_rnn)\n",
    "print('R2s:', R2s_rnn)"
   ]
  },
  {
   "cell_type": "code",
   "execution_count": 17,
   "metadata": {},
   "outputs": [],
   "source": [
    "def rnn_evaluate(num_units,frac_dropout,n_epochs):\n",
    "    #The parameters need to be in the correct format for the decoder, so we do that below\n",
    "    num_units=int(num_units)\n",
    "    frac_dropout=float(frac_dropout)\n",
    "    n_epochs=int(n_epochs)\n",
    "    #Declare and fit decoder\n",
    "    model_rnn=SimpleRNNDecoder(units=num_units,dropout=frac_dropout,num_epochs=n_epochs)\n",
    "    model_rnn.fit(X_train,y_train)\n",
    "    #Make predictions and get R2 values on validation set\n",
    "    y_valid_predicted_rnn=model_rnn.predict(X_valid)\n",
    "    return np.mean(get_R2(y_valid,y_valid_predicted_rnn))"
   ]
  },
  {
   "cell_type": "code",
   "execution_count": 18,
   "metadata": {},
   "outputs": [
    {
     "name": "stderr",
     "output_type": "stream",
     "text": [
      "/Users/liubing/opt/anaconda3/lib/python3.7/site-packages/Neural_Decoding/decoders.py:463: UserWarning: Update your `SimpleRNN` call to the Keras 2 API: `SimpleRNN(785, input_shape=(13, 69), activation=\"relu\", dropout=0.28075249..., recurrent_dropout=0.28075249...)`\n",
      "  model.add(SimpleRNN(self.units,input_shape=(X_train.shape[1],X_train.shape[2]),dropout_W=self.dropout,dropout_U=self.dropout,activation='relu')) #Within recurrent layer, include dropout\n",
      "/Users/liubing/opt/anaconda3/lib/python3.7/site-packages/Neural_Decoding/decoders.py:471: UserWarning: The `nb_epoch` argument in `fit` has been renamed `epochs`.\n",
      "  model.fit(X_train,y_train,nb_epoch=self.num_epochs,verbose=self.verbose) #Fit the model\n",
      "/Users/liubing/opt/anaconda3/lib/python3.7/site-packages/Neural_Decoding/decoders.py:463: UserWarning: Update your `SimpleRNN` call to the Keras 2 API: `SimpleRNN(64, input_shape=(13, 69), activation=\"relu\", dropout=0.01958727..., recurrent_dropout=0.01958727...)`\n",
      "  model.add(SimpleRNN(self.units,input_shape=(X_train.shape[1],X_train.shape[2]),dropout_W=self.dropout,dropout_U=self.dropout,activation='relu')) #Within recurrent layer, include dropout\n",
      "/Users/liubing/opt/anaconda3/lib/python3.7/site-packages/Neural_Decoding/decoders.py:463: UserWarning: Update your `SimpleRNN` call to the Keras 2 API: `SimpleRNN(690, input_shape=(13, 69), activation=\"relu\", dropout=0.12027696..., recurrent_dropout=0.12027696...)`\n",
      "  model.add(SimpleRNN(self.units,input_shape=(X_train.shape[1],X_train.shape[2]),dropout_W=self.dropout,dropout_U=self.dropout,activation='relu')) #Within recurrent layer, include dropout\n",
      "/Users/liubing/opt/anaconda3/lib/python3.7/site-packages/Neural_Decoding/decoders.py:463: UserWarning: Update your `SimpleRNN` call to the Keras 2 API: `SimpleRNN(697, input_shape=(13, 69), activation=\"relu\", dropout=0.14483450..., recurrent_dropout=0.14483450...)`\n",
      "  model.add(SimpleRNN(self.units,input_shape=(X_train.shape[1],X_train.shape[2]),dropout_W=self.dropout,dropout_U=self.dropout,activation='relu')) #Within recurrent layer, include dropout\n",
      "/Users/liubing/opt/anaconda3/lib/python3.7/site-packages/Neural_Decoding/decoders.py:463: UserWarning: Update your `SimpleRNN` call to the Keras 2 API: `SimpleRNN(79, input_shape=(13, 69), activation=\"relu\", dropout=0.02381442..., recurrent_dropout=0.02381442...)`\n",
      "  model.add(SimpleRNN(self.units,input_shape=(X_train.shape[1],X_train.shape[2]),dropout_W=self.dropout,dropout_U=self.dropout,activation='relu')) #Within recurrent layer, include dropout\n",
      "/Users/liubing/opt/anaconda3/lib/python3.7/site-packages/Neural_Decoding/decoders.py:463: UserWarning: Update your `SimpleRNN` call to the Keras 2 API: `SimpleRNN(594, input_shape=(13, 69), activation=\"relu\", dropout=0.13840369..., recurrent_dropout=0.13840369...)`\n",
      "  model.add(SimpleRNN(self.units,input_shape=(X_train.shape[1],X_train.shape[2]),dropout_W=self.dropout,dropout_U=self.dropout,activation='relu')) #Within recurrent layer, include dropout\n",
      "/Users/liubing/opt/anaconda3/lib/python3.7/site-packages/Neural_Decoding/decoders.py:463: UserWarning: Update your `SimpleRNN` call to the Keras 2 API: `SimpleRNN(673, input_shape=(13, 69), activation=\"relu\", dropout=0.24358177..., recurrent_dropout=0.24358177...)`\n",
      "  model.add(SimpleRNN(self.units,input_shape=(X_train.shape[1],X_train.shape[2]),dropout_W=self.dropout,dropout_U=self.dropout,activation='relu')) #Within recurrent layer, include dropout\n",
      "/Users/liubing/opt/anaconda3/lib/python3.7/site-packages/Neural_Decoding/decoders.py:463: UserWarning: Update your `SimpleRNN` call to the Keras 2 API: `SimpleRNN(352, input_shape=(13, 69), activation=\"relu\", dropout=0.08176049..., recurrent_dropout=0.08176049...)`\n",
      "  model.add(SimpleRNN(self.units,input_shape=(X_train.shape[1],X_train.shape[2]),dropout_W=self.dropout,dropout_U=self.dropout,activation='relu')) #Within recurrent layer, include dropout\n",
      "/Users/liubing/opt/anaconda3/lib/python3.7/site-packages/Neural_Decoding/decoders.py:463: UserWarning: Update your `SimpleRNN` call to the Keras 2 API: `SimpleRNN(403, input_shape=(13, 69), activation=\"relu\", dropout=0.16844877..., recurrent_dropout=0.16844877...)`\n",
      "  model.add(SimpleRNN(self.units,input_shape=(X_train.shape[1],X_train.shape[2]),dropout_W=self.dropout,dropout_U=self.dropout,activation='relu')) #Within recurrent layer, include dropout\n",
      "/Users/liubing/opt/anaconda3/lib/python3.7/site-packages/Neural_Decoding/decoders.py:463: UserWarning: Update your `SimpleRNN` call to the Keras 2 API: `SimpleRNN(271, input_shape=(13, 69), activation=\"relu\", dropout=0.05064418..., recurrent_dropout=0.05064418...)`\n",
      "  model.add(SimpleRNN(self.units,input_shape=(X_train.shape[1],X_train.shape[2]),dropout_W=self.dropout,dropout_U=self.dropout,activation='relu')) #Within recurrent layer, include dropout\n",
      "/Users/liubing/opt/anaconda3/lib/python3.7/site-packages/Neural_Decoding/decoders.py:463: UserWarning: Update your `SimpleRNN` call to the Keras 2 API: `SimpleRNN(352, input_shape=(13, 69), activation=\"relu\", dropout=0.09871803..., recurrent_dropout=0.09871803...)`\n",
      "  model.add(SimpleRNN(self.units,input_shape=(X_train.shape[1],X_train.shape[2]),dropout_W=self.dropout,dropout_U=self.dropout,activation='relu')) #Within recurrent layer, include dropout\n",
      "/Users/liubing/opt/anaconda3/lib/python3.7/site-packages/Neural_Decoding/decoders.py:471: UserWarning: The `nb_epoch` argument in `fit` has been renamed `epochs`.\n",
      "  model.fit(X_train,y_train,nb_epoch=self.num_epochs,verbose=self.verbose) #Fit the model\n",
      "/Users/liubing/opt/anaconda3/lib/python3.7/site-packages/Neural_Decoding/decoders.py:463: UserWarning: Update your `SimpleRNN` call to the Keras 2 API: `SimpleRNN(178, input_shape=(13, 69), activation=\"relu\", dropout=0.14511983..., recurrent_dropout=0.14511983...)`\n",
      "  model.add(SimpleRNN(self.units,input_shape=(X_train.shape[1],X_train.shape[2]),dropout_W=self.dropout,dropout_U=self.dropout,activation='relu')) #Within recurrent layer, include dropout\n",
      "/Users/liubing/opt/anaconda3/lib/python3.7/site-packages/Neural_Decoding/decoders.py:471: UserWarning: The `nb_epoch` argument in `fit` has been renamed `epochs`.\n",
      "  model.fit(X_train,y_train,nb_epoch=self.num_epochs,verbose=self.verbose) #Fit the model\n",
      "/Users/liubing/opt/anaconda3/lib/python3.7/site-packages/Neural_Decoding/decoders.py:463: UserWarning: Update your `SimpleRNN` call to the Keras 2 API: `SimpleRNN(500, input_shape=(13, 69), activation=\"relu\", dropout=0.0, recurrent_dropout=0.0)`\n",
      "  model.add(SimpleRNN(self.units,input_shape=(X_train.shape[1],X_train.shape[2]),dropout_W=self.dropout,dropout_U=self.dropout,activation='relu')) #Within recurrent layer, include dropout\n",
      "/Users/liubing/opt/anaconda3/lib/python3.7/site-packages/Neural_Decoding/decoders.py:471: UserWarning: The `nb_epoch` argument in `fit` has been renamed `epochs`.\n",
      "  model.fit(X_train,y_train,nb_epoch=self.num_epochs,verbose=self.verbose) #Fit the model\n",
      "/Users/liubing/opt/anaconda3/lib/python3.7/site-packages/Neural_Decoding/decoders.py:463: UserWarning: Update your `SimpleRNN` call to the Keras 2 API: `SimpleRNN(452, input_shape=(13, 69), activation=\"relu\", dropout=0.36883872..., recurrent_dropout=0.36883872...)`\n",
      "  model.add(SimpleRNN(self.units,input_shape=(X_train.shape[1],X_train.shape[2]),dropout_W=self.dropout,dropout_U=self.dropout,activation='relu')) #Within recurrent layer, include dropout\n",
      "/Users/liubing/opt/anaconda3/lib/python3.7/site-packages/Neural_Decoding/decoders.py:471: UserWarning: The `nb_epoch` argument in `fit` has been renamed `epochs`.\n",
      "  model.fit(X_train,y_train,nb_epoch=self.num_epochs,verbose=self.verbose) #Fit the model\n",
      "/Users/liubing/opt/anaconda3/lib/python3.7/site-packages/Neural_Decoding/decoders.py:463: UserWarning: Update your `SimpleRNN` call to the Keras 2 API: `SimpleRNN(223, input_shape=(13, 69), activation=\"relu\", dropout=0.37146671..., recurrent_dropout=0.37146671...)`\n",
      "  model.add(SimpleRNN(self.units,input_shape=(X_train.shape[1],X_train.shape[2]),dropout_W=self.dropout,dropout_U=self.dropout,activation='relu')) #Within recurrent layer, include dropout\n",
      "/Users/liubing/opt/anaconda3/lib/python3.7/site-packages/Neural_Decoding/decoders.py:471: UserWarning: The `nb_epoch` argument in `fit` has been renamed `epochs`.\n",
      "  model.fit(X_train,y_train,nb_epoch=self.num_epochs,verbose=self.verbose) #Fit the model\n"
     ]
    },
    {
     "name": "stderr",
     "output_type": "stream",
     "text": [
      "/Users/liubing/opt/anaconda3/lib/python3.7/site-packages/Neural_Decoding/decoders.py:463: UserWarning: Update your `SimpleRNN` call to the Keras 2 API: `SimpleRNN(545, input_shape=(13, 69), activation=\"relu\", dropout=0.5, recurrent_dropout=0.5)`\n",
      "  model.add(SimpleRNN(self.units,input_shape=(X_train.shape[1],X_train.shape[2]),dropout_W=self.dropout,dropout_U=self.dropout,activation='relu')) #Within recurrent layer, include dropout\n",
      "/Users/liubing/opt/anaconda3/lib/python3.7/site-packages/Neural_Decoding/decoders.py:471: UserWarning: The `nb_epoch` argument in `fit` has been renamed `epochs`.\n",
      "  model.fit(X_train,y_train,nb_epoch=self.num_epochs,verbose=self.verbose) #Fit the model\n",
      "/Users/liubing/opt/anaconda3/lib/python3.7/site-packages/Neural_Decoding/decoders.py:463: UserWarning: Update your `SimpleRNN` call to the Keras 2 API: `SimpleRNN(134, input_shape=(13, 69), activation=\"relu\", dropout=0.5, recurrent_dropout=0.5)`\n",
      "  model.add(SimpleRNN(self.units,input_shape=(X_train.shape[1],X_train.shape[2]),dropout_W=self.dropout,dropout_U=self.dropout,activation='relu')) #Within recurrent layer, include dropout\n",
      "/Users/liubing/opt/anaconda3/lib/python3.7/site-packages/Neural_Decoding/decoders.py:471: UserWarning: The `nb_epoch` argument in `fit` has been renamed `epochs`.\n",
      "  model.fit(X_train,y_train,nb_epoch=self.num_epochs,verbose=self.verbose) #Fit the model\n",
      "/Users/liubing/opt/anaconda3/lib/python3.7/site-packages/Neural_Decoding/decoders.py:463: UserWarning: Update your `SimpleRNN` call to the Keras 2 API: `SimpleRNN(743, input_shape=(13, 69), activation=\"relu\", dropout=0.0, recurrent_dropout=0.0)`\n",
      "  model.add(SimpleRNN(self.units,input_shape=(X_train.shape[1],X_train.shape[2]),dropout_W=self.dropout,dropout_U=self.dropout,activation='relu')) #Within recurrent layer, include dropout\n",
      "/Users/liubing/opt/anaconda3/lib/python3.7/site-packages/Neural_Decoding/decoders.py:471: UserWarning: The `nb_epoch` argument in `fit` has been renamed `epochs`.\n",
      "  model.fit(X_train,y_train,nb_epoch=self.num_epochs,verbose=self.verbose) #Fit the model\n",
      "/Users/liubing/opt/anaconda3/lib/python3.7/site-packages/Neural_Decoding/decoders.py:463: UserWarning: Update your `SimpleRNN` call to the Keras 2 API: `SimpleRNN(314, input_shape=(13, 69), activation=\"relu\", dropout=0.0, recurrent_dropout=0.0)`\n",
      "  model.add(SimpleRNN(self.units,input_shape=(X_train.shape[1],X_train.shape[2]),dropout_W=self.dropout,dropout_U=self.dropout,activation='relu')) #Within recurrent layer, include dropout\n",
      "/Users/liubing/opt/anaconda3/lib/python3.7/site-packages/Neural_Decoding/decoders.py:471: UserWarning: The `nb_epoch` argument in `fit` has been renamed `epochs`.\n",
      "  model.fit(X_train,y_train,nb_epoch=self.num_epochs,verbose=self.verbose) #Fit the model\n",
      "/Users/liubing/opt/anaconda3/lib/python3.7/site-packages/Neural_Decoding/decoders.py:463: UserWarning: Update your `SimpleRNN` call to the Keras 2 API: `SimpleRNN(634, input_shape=(13, 69), activation=\"relu\", dropout=0.5, recurrent_dropout=0.5)`\n",
      "  model.add(SimpleRNN(self.units,input_shape=(X_train.shape[1],X_train.shape[2]),dropout_W=self.dropout,dropout_U=self.dropout,activation='relu')) #Within recurrent layer, include dropout\n",
      "/Users/liubing/opt/anaconda3/lib/python3.7/site-packages/Neural_Decoding/decoders.py:471: UserWarning: The `nb_epoch` argument in `fit` has been renamed `epochs`.\n",
      "  model.fit(X_train,y_train,nb_epoch=self.num_epochs,verbose=self.verbose) #Fit the model\n"
     ]
    }
   ],
   "source": [
    "#Do bayesian optimization, and set limits of hyperparameters\n",
    "rnnBO = BayesianOptimization(rnn_evaluate, {'num_units': (50, 800.99), 'frac_dropout': (0,.5), 'n_epochs': (2,15.99)},verbose=0)\n",
    "\n",
    "#Set number of initial runs (init_points) and subsequent tests (n_iter), and do the optimization\n",
    "#kappa is a parameter that sets exploration vs exploitation in the algorithm - 10 seems to work pretty welldnnBO = BayesianOptimization(dnn_evaluate, {'num_units': (50, 500), 'frac_dropout': (0.,.5), 'n_epochs': (2,15)})\n",
    "rnnBO.maximize(init_points=10, n_iter=10, kappa=10)"
   ]
  },
  {
   "cell_type": "code",
   "execution_count": 19,
   "metadata": {},
   "outputs": [
    {
     "data": {
      "text/plain": [
       "[{'target': 0.7003666582685123,\n",
       "  'params': {'frac_dropout': 0.28075249926385837,\n",
       "   'n_epochs': 11.061102042250328,\n",
       "   'num_units': 785.4166428223125}},\n",
       " {'target': 0.7892899146817152,\n",
       "  'params': {'frac_dropout': 0.019587275934484616,\n",
       "   'n_epochs': 2.329668302426074,\n",
       "   'num_units': 64.36433301780305}},\n",
       " {'target': 0.8124801675118982,\n",
       "  'params': {'frac_dropout': 0.12027696131935461,\n",
       "   'n_epochs': 4.568010301396711,\n",
       "   'num_units': 690.6664362930317}},\n",
       " {'target': 0.7894749009279509,\n",
       "  'params': {'frac_dropout': 0.14483450136383053,\n",
       "   'n_epochs': 14.58470703512448,\n",
       "   'num_units': 697.9696189107757}},\n",
       " {'target': 0.8287558612415026,\n",
       "  'params': {'frac_dropout': 0.023814420555736016,\n",
       "   'n_epochs': 7.588929370573311,\n",
       "   'num_units': 79.40460983729956}},\n",
       " {'target': 0.8085074340600193,\n",
       "  'params': {'frac_dropout': 0.13840369098283006,\n",
       "   'n_epochs': 4.28498248580034,\n",
       "   'num_units': 594.6178902187797}},\n",
       " {'target': 0.7396081895297898,\n",
       "  'params': {'frac_dropout': 0.24358177076162724,\n",
       "   'n_epochs': 15.200770409838478,\n",
       "   'num_units': 673.3292102146364}},\n",
       " {'target': 0.8422324481806962,\n",
       "  'params': {'frac_dropout': 0.08176049470182883,\n",
       "   'n_epochs': 4.1253729629806575,\n",
       "   'num_units': 352.2846753881371}},\n",
       " {'target': 0.8055889230394484,\n",
       "  'params': {'frac_dropout': 0.16844877301039585,\n",
       "   'n_epochs': 7.411906022339892,\n",
       "   'num_units': 403.57934505361266}},\n",
       " {'target': 0.8260256441377655,\n",
       "  'params': {'frac_dropout': 0.05064418916276403,\n",
       "   'n_epochs': 14.075708492634348,\n",
       "   'num_units': 271.7061081915382}},\n",
       " {'target': 0.825507529854468,\n",
       "  'params': {'frac_dropout': 0.09871803880187724,\n",
       "   'n_epochs': 3.8465425489428897,\n",
       "   'num_units': 352.2274570834794}},\n",
       " {'target': 0.7711605313559486,\n",
       "  'params': {'frac_dropout': 0.14511983689838964,\n",
       "   'n_epochs': 2.0,\n",
       "   'num_units': 178.64462238434993}},\n",
       " {'target': 0.8393923142183622,\n",
       "  'params': {'frac_dropout': 0.0,\n",
       "   'n_epochs': 15.99,\n",
       "   'num_units': 500.8431751082843}},\n",
       " {'target': 0.6639045310085794,\n",
       "  'params': {'frac_dropout': 0.3688387268992468,\n",
       "   'n_epochs': 2.1066452442596804,\n",
       "   'num_units': 452.89790811084936}},\n",
       " {'target': 0.45451142102336745,\n",
       "  'params': {'frac_dropout': 0.3714667179064082,\n",
       "   'n_epochs': 15.898935083458623,\n",
       "   'num_units': 223.337775807069}},\n",
       " {'target': 0.47705261474699134,\n",
       "  'params': {'frac_dropout': 0.5,\n",
       "   'n_epochs': 2.0,\n",
       "   'num_units': 545.6510511625615}},\n",
       " {'target': 0.14664599394637506,\n",
       "  'params': {'frac_dropout': 0.5,\n",
       "   'n_epochs': 15.99,\n",
       "   'num_units': 134.98953562298573}},\n",
       " {'target': 0.7994236686691096,\n",
       "  'params': {'frac_dropout': 0.0,\n",
       "   'n_epochs': 2.0,\n",
       "   'num_units': 743.9182738464816}},\n",
       " {'target': 0.8322119077304946,\n",
       "  'params': {'frac_dropout': 0.0,\n",
       "   'n_epochs': 15.99,\n",
       "   'num_units': 314.6091064810983}},\n",
       " {'target': 0.4657276520250966,\n",
       "  'params': {'frac_dropout': 0.5,\n",
       "   'n_epochs': 2.0,\n",
       "   'num_units': 634.1328265169063}}]"
      ]
     },
     "execution_count": 19,
     "metadata": {},
     "output_type": "execute_result"
    }
   ],
   "source": [
    "rnnBO.res"
   ]
  },
  {
   "cell_type": "code",
   "execution_count": 20,
   "metadata": {},
   "outputs": [
    {
     "data": {
      "text/plain": [
       "{'target': 0.8422324481806962,\n",
       " 'params': {'frac_dropout': 0.08176049470182883,\n",
       "  'n_epochs': 4.1253729629806575,\n",
       "  'num_units': 352.2846753881371}}"
      ]
     },
     "execution_count": 20,
     "metadata": {},
     "output_type": "execute_result"
    }
   ],
   "source": [
    "rnnBO.res[7]"
   ]
  },
  {
   "cell_type": "code",
   "execution_count": 21,
   "metadata": {},
   "outputs": [
    {
     "name": "stderr",
     "output_type": "stream",
     "text": [
      "/Users/liubing/opt/anaconda3/lib/python3.7/site-packages/Neural_Decoding/decoders.py:463: UserWarning: Update your `SimpleRNN` call to the Keras 2 API: `SimpleRNN(352, input_shape=(13, 69), activation=\"relu\", dropout=0.08, recurrent_dropout=0.08)`\n",
      "  model.add(SimpleRNN(self.units,input_shape=(X_train.shape[1],X_train.shape[2]),dropout_W=self.dropout,dropout_U=self.dropout,activation='relu')) #Within recurrent layer, include dropout\n"
     ]
    },
    {
     "name": "stdout",
     "output_type": "stream",
     "text": [
      "R2s: [0.84273497 0.8418667 ]\n"
     ]
    }
   ],
   "source": [
    "#Declare model\n",
    "model_rnn=SimpleRNNDecoder(units=352,dropout=0.08,num_epochs=4)\n",
    "\n",
    "#Fit model\n",
    "model_rnn.fit(X_train,y_train)\n",
    "\n",
    "#Get predictions\n",
    "y_valid_predicted_rnn=model_rnn.predict(X_valid)\n",
    "\n",
    "#Get metric of fit\n",
    "R2s_rnn=get_R2(y_valid,y_valid_predicted_rnn)\n",
    "print('R2s:', R2s_rnn)"
   ]
  },
  {
   "cell_type": "code",
   "execution_count": 22,
   "metadata": {},
   "outputs": [],
   "source": [
    "import scipy.io as sio\n",
    "sio.savemat('decoding_data_1600ms_rnn_optimized_pa29.mat',{'y_valid': y_valid,'y_train_mean': y_train_mean, 'y_valid_predicted_rnn': y_valid_predicted_rnn,'R2s_rnn':R2s_rnn,'rnnBO':rnnBO})"
   ]
  },
  {
   "cell_type": "code",
   "execution_count": null,
   "metadata": {},
   "outputs": [],
   "source": []
  },
  {
   "cell_type": "code",
   "execution_count": null,
   "metadata": {},
   "outputs": [],
   "source": []
  },
  {
   "cell_type": "code",
   "execution_count": 16,
   "metadata": {},
   "outputs": [
    {
     "name": "stderr",
     "output_type": "stream",
     "text": [
      "/Users/liubing/opt/anaconda3/lib/python3.7/site-packages/Neural_Decoding/decoders.py:542: UserWarning: Update your `GRU` call to the Keras 2 API: `GRU(400, input_shape=(13, 69), dropout=0, recurrent_dropout=0)`\n",
      "  model.add(GRU(self.units,input_shape=(X_train.shape[1],X_train.shape[2]),dropout_W=self.dropout,dropout_U=self.dropout)) #Within recurrent layer, include dropout\n",
      "/Users/liubing/opt/anaconda3/lib/python3.7/site-packages/Neural_Decoding/decoders.py:550: UserWarning: The `nb_epoch` argument in `fit` has been renamed `epochs`.\n",
      "  model.fit(X_train,y_train,nb_epoch=self.num_epochs,verbose=self.verbose) #Fit the model\n"
     ]
    },
    {
     "name": "stdout",
     "output_type": "stream",
     "text": [
      "R2s: [0.8478676  0.84248641]\n"
     ]
    }
   ],
   "source": [
    "#Declare model\n",
    "model_gru=GRUDecoder(units=400,dropout=0,num_epochs=5)\n",
    "\n",
    "#Fit model\n",
    "model_gru.fit(X_train,y_train)\n",
    "\n",
    "#Get predictions\n",
    "y_valid_predicted_gru=model_gru.predict(X_valid)\n",
    "\n",
    "#Get metric of fit\n",
    "R2s_gru=get_R2(y_valid,y_valid_predicted_gru)\n",
    "print('R2s:', R2s_gru)"
   ]
  },
  {
   "cell_type": "code",
   "execution_count": 17,
   "metadata": {},
   "outputs": [
    {
     "name": "stderr",
     "output_type": "stream",
     "text": [
      "/Users/liubing/opt/anaconda3/lib/python3.7/site-packages/Neural_Decoding/decoders.py:621: UserWarning: Update your `LSTM` call to the Keras 2 API: `LSTM(400, input_shape=(13, 69), dropout=0, recurrent_dropout=0)`\n",
      "  model.add(LSTM(self.units,input_shape=(X_train.shape[1],X_train.shape[2]),dropout_W=self.dropout,dropout_U=self.dropout)) #Within recurrent layer, include dropout\n",
      "/Users/liubing/opt/anaconda3/lib/python3.7/site-packages/Neural_Decoding/decoders.py:629: UserWarning: The `nb_epoch` argument in `fit` has been renamed `epochs`.\n",
      "  model.fit(X_train,y_train,nb_epoch=self.num_epochs,verbose=self.verbose) #Fit the model\n"
     ]
    },
    {
     "name": "stdout",
     "output_type": "stream",
     "text": [
      "R2s: [0.86214254 0.85889675]\n"
     ]
    }
   ],
   "source": [
    "#Declare model\n",
    "model_lstm=LSTMDecoder(units=400,dropout=0,num_epochs=5)\n",
    "\n",
    "#Fit model\n",
    "model_lstm.fit(X_train,y_train)\n",
    "\n",
    "#Get predictions\n",
    "y_valid_predicted_lstm=model_lstm.predict(X_valid)\n",
    "\n",
    "#Get metric of fit\n",
    "R2s_lstm=get_R2(y_valid,y_valid_predicted_lstm)\n",
    "print('R2s:', R2s_lstm)"
   ]
  },
  {
   "cell_type": "code",
   "execution_count": 23,
   "metadata": {},
   "outputs": [],
   "source": [
    "def gru_evaluate(num_units,frac_dropout,n_epochs):\n",
    "    #The parameters need to be in the correct format for the decoder, so we do that below\n",
    "    num_units=int(num_units)\n",
    "    frac_dropout=float(frac_dropout)\n",
    "    n_epochs=int(n_epochs)\n",
    "    #Declare and fit decoder\n",
    "    model_gru=GRUDecoder(units=num_units,dropout=frac_dropout,num_epochs=n_epochs)\n",
    "    model_gru.fit(X_train,y_train)\n",
    "    #Make predictions and get R2 values on validation set\n",
    "    y_valid_predicted_gru=model_gru.predict(X_valid)\n",
    "    return np.mean(get_R2(y_valid,y_valid_predicted_gru))"
   ]
  },
  {
   "cell_type": "code",
   "execution_count": 24,
   "metadata": {
    "scrolled": true
   },
   "outputs": [
    {
     "name": "stderr",
     "output_type": "stream",
     "text": [
      "/Users/liubing/opt/anaconda3/lib/python3.7/site-packages/Neural_Decoding/decoders.py:542: UserWarning: Update your `GRU` call to the Keras 2 API: `GRU(317, input_shape=(13, 69), dropout=0.33041075..., recurrent_dropout=0.33041075...)`\n",
      "  model.add(GRU(self.units,input_shape=(X_train.shape[1],X_train.shape[2]),dropout_W=self.dropout,dropout_U=self.dropout)) #Within recurrent layer, include dropout\n",
      "/Users/liubing/opt/anaconda3/lib/python3.7/site-packages/Neural_Decoding/decoders.py:550: UserWarning: The `nb_epoch` argument in `fit` has been renamed `epochs`.\n",
      "  model.fit(X_train,y_train,nb_epoch=self.num_epochs,verbose=self.verbose) #Fit the model\n",
      "/Users/liubing/opt/anaconda3/lib/python3.7/site-packages/Neural_Decoding/decoders.py:542: UserWarning: Update your `GRU` call to the Keras 2 API: `GRU(466, input_shape=(13, 69), dropout=0.24156880..., recurrent_dropout=0.24156880...)`\n",
      "  model.add(GRU(self.units,input_shape=(X_train.shape[1],X_train.shape[2]),dropout_W=self.dropout,dropout_U=self.dropout)) #Within recurrent layer, include dropout\n",
      "/Users/liubing/opt/anaconda3/lib/python3.7/site-packages/Neural_Decoding/decoders.py:542: UserWarning: Update your `GRU` call to the Keras 2 API: `GRU(93, input_shape=(13, 69), dropout=0.01419316..., recurrent_dropout=0.01419316...)`\n",
      "  model.add(GRU(self.units,input_shape=(X_train.shape[1],X_train.shape[2]),dropout_W=self.dropout,dropout_U=self.dropout)) #Within recurrent layer, include dropout\n",
      "/Users/liubing/opt/anaconda3/lib/python3.7/site-packages/Neural_Decoding/decoders.py:542: UserWarning: Update your `GRU` call to the Keras 2 API: `GRU(461, input_shape=(13, 69), dropout=0.41181286..., recurrent_dropout=0.41181286...)`\n",
      "  model.add(GRU(self.units,input_shape=(X_train.shape[1],X_train.shape[2]),dropout_W=self.dropout,dropout_U=self.dropout)) #Within recurrent layer, include dropout\n",
      "/Users/liubing/opt/anaconda3/lib/python3.7/site-packages/Neural_Decoding/decoders.py:542: UserWarning: Update your `GRU` call to the Keras 2 API: `GRU(581, input_shape=(13, 69), dropout=0.16416303..., recurrent_dropout=0.16416303...)`\n",
      "  model.add(GRU(self.units,input_shape=(X_train.shape[1],X_train.shape[2]),dropout_W=self.dropout,dropout_U=self.dropout)) #Within recurrent layer, include dropout\n",
      "/Users/liubing/opt/anaconda3/lib/python3.7/site-packages/Neural_Decoding/decoders.py:542: UserWarning: Update your `GRU` call to the Keras 2 API: `GRU(87, input_shape=(13, 69), dropout=0.37204977..., recurrent_dropout=0.37204977...)`\n",
      "  model.add(GRU(self.units,input_shape=(X_train.shape[1],X_train.shape[2]),dropout_W=self.dropout,dropout_U=self.dropout)) #Within recurrent layer, include dropout\n",
      "/Users/liubing/opt/anaconda3/lib/python3.7/site-packages/Neural_Decoding/decoders.py:542: UserWarning: Update your `GRU` call to the Keras 2 API: `GRU(547, input_shape=(13, 69), dropout=0.40428038..., recurrent_dropout=0.40428038...)`\n",
      "  model.add(GRU(self.units,input_shape=(X_train.shape[1],X_train.shape[2]),dropout_W=self.dropout,dropout_U=self.dropout)) #Within recurrent layer, include dropout\n",
      "/Users/liubing/opt/anaconda3/lib/python3.7/site-packages/Neural_Decoding/decoders.py:542: UserWarning: Update your `GRU` call to the Keras 2 API: `GRU(668, input_shape=(13, 69), dropout=0.42460418..., recurrent_dropout=0.42460418...)`\n",
      "  model.add(GRU(self.units,input_shape=(X_train.shape[1],X_train.shape[2]),dropout_W=self.dropout,dropout_U=self.dropout)) #Within recurrent layer, include dropout\n",
      "/Users/liubing/opt/anaconda3/lib/python3.7/site-packages/Neural_Decoding/decoders.py:542: UserWarning: Update your `GRU` call to the Keras 2 API: `GRU(414, input_shape=(13, 69), dropout=0.05529933..., recurrent_dropout=0.05529933...)`\n",
      "  model.add(GRU(self.units,input_shape=(X_train.shape[1],X_train.shape[2]),dropout_W=self.dropout,dropout_U=self.dropout)) #Within recurrent layer, include dropout\n",
      "/Users/liubing/opt/anaconda3/lib/python3.7/site-packages/Neural_Decoding/decoders.py:542: UserWarning: Update your `GRU` call to the Keras 2 API: `GRU(267, input_shape=(13, 69), dropout=0.19175258..., recurrent_dropout=0.19175258...)`\n",
      "  model.add(GRU(self.units,input_shape=(X_train.shape[1],X_train.shape[2]),dropout_W=self.dropout,dropout_U=self.dropout)) #Within recurrent layer, include dropout\n",
      "/Users/liubing/opt/anaconda3/lib/python3.7/site-packages/Neural_Decoding/decoders.py:542: UserWarning: Update your `GRU` call to the Keras 2 API: `GRU(135, input_shape=(13, 69), dropout=0.0, recurrent_dropout=0.0)`\n",
      "  model.add(GRU(self.units,input_shape=(X_train.shape[1],X_train.shape[2]),dropout_W=self.dropout,dropout_U=self.dropout)) #Within recurrent layer, include dropout\n",
      "/Users/liubing/opt/anaconda3/lib/python3.7/site-packages/Neural_Decoding/decoders.py:550: UserWarning: The `nb_epoch` argument in `fit` has been renamed `epochs`.\n",
      "  model.fit(X_train,y_train,nb_epoch=self.num_epochs,verbose=self.verbose) #Fit the model\n",
      "/Users/liubing/opt/anaconda3/lib/python3.7/site-packages/Neural_Decoding/decoders.py:542: UserWarning: Update your `GRU` call to the Keras 2 API: `GRU(189, input_shape=(13, 69), dropout=0.01789628..., recurrent_dropout=0.01789628...)`\n",
      "  model.add(GRU(self.units,input_shape=(X_train.shape[1],X_train.shape[2]),dropout_W=self.dropout,dropout_U=self.dropout)) #Within recurrent layer, include dropout\n",
      "/Users/liubing/opt/anaconda3/lib/python3.7/site-packages/Neural_Decoding/decoders.py:550: UserWarning: The `nb_epoch` argument in `fit` has been renamed `epochs`.\n",
      "  model.fit(X_train,y_train,nb_epoch=self.num_epochs,verbose=self.verbose) #Fit the model\n",
      "/Users/liubing/opt/anaconda3/lib/python3.7/site-packages/Neural_Decoding/decoders.py:542: UserWarning: Update your `GRU` call to the Keras 2 API: `GRU(369, input_shape=(13, 69), dropout=0.13690167..., recurrent_dropout=0.13690167...)`\n",
      "  model.add(GRU(self.units,input_shape=(X_train.shape[1],X_train.shape[2]),dropout_W=self.dropout,dropout_U=self.dropout)) #Within recurrent layer, include dropout\n",
      "/Users/liubing/opt/anaconda3/lib/python3.7/site-packages/Neural_Decoding/decoders.py:550: UserWarning: The `nb_epoch` argument in `fit` has been renamed `epochs`.\n",
      "  model.fit(X_train,y_train,nb_epoch=self.num_epochs,verbose=self.verbose) #Fit the model\n",
      "/Users/liubing/opt/anaconda3/lib/python3.7/site-packages/Neural_Decoding/decoders.py:542: UserWarning: Update your `GRU` call to the Keras 2 API: `GRU(624, input_shape=(13, 69), dropout=0.29019053..., recurrent_dropout=0.29019053...)`\n",
      "  model.add(GRU(self.units,input_shape=(X_train.shape[1],X_train.shape[2]),dropout_W=self.dropout,dropout_U=self.dropout)) #Within recurrent layer, include dropout\n",
      "/Users/liubing/opt/anaconda3/lib/python3.7/site-packages/Neural_Decoding/decoders.py:550: UserWarning: The `nb_epoch` argument in `fit` has been renamed `epochs`.\n",
      "  model.fit(X_train,y_train,nb_epoch=self.num_epochs,verbose=self.verbose) #Fit the model\n",
      "/Users/liubing/opt/anaconda3/lib/python3.7/site-packages/Neural_Decoding/decoders.py:542: UserWarning: Update your `GRU` call to the Keras 2 API: `GRU(228, input_shape=(13, 69), dropout=0.5, recurrent_dropout=0.5)`\n",
      "  model.add(GRU(self.units,input_shape=(X_train.shape[1],X_train.shape[2]),dropout_W=self.dropout,dropout_U=self.dropout)) #Within recurrent layer, include dropout\n",
      "/Users/liubing/opt/anaconda3/lib/python3.7/site-packages/Neural_Decoding/decoders.py:550: UserWarning: The `nb_epoch` argument in `fit` has been renamed `epochs`.\n",
      "  model.fit(X_train,y_train,nb_epoch=self.num_epochs,verbose=self.verbose) #Fit the model\n",
      "/Users/liubing/opt/anaconda3/lib/python3.7/site-packages/Neural_Decoding/decoders.py:542: UserWarning: Update your `GRU` call to the Keras 2 API: `GRU(507, input_shape=(13, 69), dropout=0.0, recurrent_dropout=0.0)`\n",
      "  model.add(GRU(self.units,input_shape=(X_train.shape[1],X_train.shape[2]),dropout_W=self.dropout,dropout_U=self.dropout)) #Within recurrent layer, include dropout\n",
      "/Users/liubing/opt/anaconda3/lib/python3.7/site-packages/Neural_Decoding/decoders.py:550: UserWarning: The `nb_epoch` argument in `fit` has been renamed `epochs`.\n",
      "  model.fit(X_train,y_train,nb_epoch=self.num_epochs,verbose=self.verbose) #Fit the model\n",
      "/Users/liubing/opt/anaconda3/lib/python3.7/site-packages/Neural_Decoding/decoders.py:542: UserWarning: Update your `GRU` call to the Keras 2 API: `GRU(504, input_shape=(13, 69), dropout=0.29959567..., recurrent_dropout=0.29959567...)`\n",
      "  model.add(GRU(self.units,input_shape=(X_train.shape[1],X_train.shape[2]),dropout_W=self.dropout,dropout_U=self.dropout)) #Within recurrent layer, include dropout\n"
     ]
    },
    {
     "name": "stderr",
     "output_type": "stream",
     "text": [
      "/Users/liubing/opt/anaconda3/lib/python3.7/site-packages/Neural_Decoding/decoders.py:550: UserWarning: The `nb_epoch` argument in `fit` has been renamed `epochs`.\n",
      "  model.fit(X_train,y_train,nb_epoch=self.num_epochs,verbose=self.verbose) #Fit the model\n",
      "/Users/liubing/opt/anaconda3/lib/python3.7/site-packages/Neural_Decoding/decoders.py:542: UserWarning: Update your `GRU` call to the Keras 2 API: `GRU(160, input_shape=(13, 69), dropout=0.5, recurrent_dropout=0.5)`\n",
      "  model.add(GRU(self.units,input_shape=(X_train.shape[1],X_train.shape[2]),dropout_W=self.dropout,dropout_U=self.dropout)) #Within recurrent layer, include dropout\n",
      "/Users/liubing/opt/anaconda3/lib/python3.7/site-packages/Neural_Decoding/decoders.py:550: UserWarning: The `nb_epoch` argument in `fit` has been renamed `epochs`.\n",
      "  model.fit(X_train,y_train,nb_epoch=self.num_epochs,verbose=self.verbose) #Fit the model\n",
      "/Users/liubing/opt/anaconda3/lib/python3.7/site-packages/Neural_Decoding/decoders.py:542: UserWarning: Update your `GRU` call to the Keras 2 API: `GRU(50, input_shape=(13, 69), dropout=0.0, recurrent_dropout=0.0)`\n",
      "  model.add(GRU(self.units,input_shape=(X_train.shape[1],X_train.shape[2]),dropout_W=self.dropout,dropout_U=self.dropout)) #Within recurrent layer, include dropout\n",
      "/Users/liubing/opt/anaconda3/lib/python3.7/site-packages/Neural_Decoding/decoders.py:550: UserWarning: The `nb_epoch` argument in `fit` has been renamed `epochs`.\n",
      "  model.fit(X_train,y_train,nb_epoch=self.num_epochs,verbose=self.verbose) #Fit the model\n",
      "/Users/liubing/opt/anaconda3/lib/python3.7/site-packages/Neural_Decoding/decoders.py:542: UserWarning: Update your `GRU` call to the Keras 2 API: `GRU(700, input_shape=(13, 69), dropout=0.11200611..., recurrent_dropout=0.11200611...)`\n",
      "  model.add(GRU(self.units,input_shape=(X_train.shape[1],X_train.shape[2]),dropout_W=self.dropout,dropout_U=self.dropout)) #Within recurrent layer, include dropout\n",
      "/Users/liubing/opt/anaconda3/lib/python3.7/site-packages/Neural_Decoding/decoders.py:550: UserWarning: The `nb_epoch` argument in `fit` has been renamed `epochs`.\n",
      "  model.fit(X_train,y_train,nb_epoch=self.num_epochs,verbose=self.verbose) #Fit the model\n"
     ]
    }
   ],
   "source": [
    "#Do bayesian optimization, and set limits of hyperparameters\n",
    "gruBO = BayesianOptimization(gru_evaluate, {'num_units': (50, 700.99), 'frac_dropout': (0,.5), 'n_epochs': (2,15.99)},verbose=0)\n",
    "\n",
    "#Set number of initial runs (init_points) and subsequent tests (n_iter), and do the optimization\n",
    "#kappa is a parameter that sets exploration vs exploitation in the algorithm - 10 seems to work pretty welldnnBO = BayesianOptimization(dnn_evaluate, {'num_units': (50, 500), 'frac_dropout': (0.,.5), 'n_epochs': (2,15)})\n",
    "gruBO.maximize(init_points=10, n_iter=10, kappa=10)"
   ]
  },
  {
   "cell_type": "code",
   "execution_count": 25,
   "metadata": {},
   "outputs": [
    {
     "data": {
      "text/plain": [
       "[{'target': 0.3303177636112737,\n",
       "  'params': {'frac_dropout': 0.3304107553327158,\n",
       "   'n_epochs': 5.201696864482901,\n",
       "   'num_units': 317.5121469502883}},\n",
       " {'target': 0.4223927828343629,\n",
       "  'params': {'frac_dropout': 0.24156880878488596,\n",
       "   'n_epochs': 10.417796381762482,\n",
       "   'num_units': 466.58482087420043}},\n",
       " {'target': 0.8241694833695548,\n",
       "  'params': {'frac_dropout': 0.014193160615914413,\n",
       "   'n_epochs': 8.21103494247178,\n",
       "   'num_units': 93.83228616467787}},\n",
       " {'target': 0.15088566848451457,\n",
       "  'params': {'frac_dropout': 0.4118128643567873,\n",
       "   'n_epochs': 12.038692131884549,\n",
       "   'num_units': 461.9889923432192}},\n",
       " {'target': 0.6336898449462939,\n",
       "  'params': {'frac_dropout': 0.16416303930947468,\n",
       "   'n_epochs': 7.9063921061590205,\n",
       "   'num_units': 581.0335432991963}},\n",
       " {'target': 0.23045877718970237,\n",
       "  'params': {'frac_dropout': 0.37204977601261247,\n",
       "   'n_epochs': 13.356973652744983,\n",
       "   'num_units': 87.7137389921204}},\n",
       " {'target': 0.06013408492848321,\n",
       "  'params': {'frac_dropout': 0.40428038707397956,\n",
       "   'n_epochs': 2.0230788229549885,\n",
       "   'num_units': 547.8772732554755}},\n",
       " {'target': 0.11796186072231868,\n",
       "  'params': {'frac_dropout': 0.4246041879906462,\n",
       "   'n_epochs': 13.787492407210152,\n",
       "   'num_units': 668.9613476408962}},\n",
       " {'target': 0.845177639194004,\n",
       "  'params': {'frac_dropout': 0.05529933421599326,\n",
       "   'n_epochs': 10.89286144456866,\n",
       "   'num_units': 414.52022960417275}},\n",
       " {'target': 0.5424955951630627,\n",
       "  'params': {'frac_dropout': 0.19175258517693677,\n",
       "   'n_epochs': 5.398101700793276,\n",
       "   'num_units': 267.76403422289184}},\n",
       " {'target': 0.8354034615890079,\n",
       "  'params': {'frac_dropout': 0.0,\n",
       "   'n_epochs': 2.0,\n",
       "   'num_units': 135.79826219014112}},\n",
       " {'target': 0.8326508601172132,\n",
       "  'params': {'frac_dropout': 0.017896289105553853,\n",
       "   'n_epochs': 12.787604141308034,\n",
       "   'num_units': 189.794439156377}},\n",
       " {'target': 0.7448518494893335,\n",
       "  'params': {'frac_dropout': 0.13690167584090546,\n",
       "   'n_epochs': 15.615907553695441,\n",
       "   'num_units': 369.351972857337}},\n",
       " {'target': 0.20935443074701698,\n",
       "  'params': {'frac_dropout': 0.2901905348544807,\n",
       "   'n_epochs': 2.3441641143394563,\n",
       "   'num_units': 624.043232760126}},\n",
       " {'target': 0.09907162198200231,\n",
       "  'params': {'frac_dropout': 0.5,\n",
       "   'n_epochs': 15.99,\n",
       "   'num_units': 228.74376002592282}},\n",
       " {'target': 0.8553840512899742,\n",
       "  'params': {'frac_dropout': 0.0,\n",
       "   'n_epochs': 15.99,\n",
       "   'num_units': 507.37578505776565}},\n",
       " {'target': 0.4559622132205166,\n",
       "  'params': {'frac_dropout': 0.2995956717211562,\n",
       "   'n_epochs': 14.688265006477438,\n",
       "   'num_units': 504.91055470578425}},\n",
       " {'target': 0.06736546698783585,\n",
       "  'params': {'frac_dropout': 0.5,\n",
       "   'n_epochs': 15.99,\n",
       "   'num_units': 160.96014490062998}},\n",
       " {'target': 0.7713424237281781,\n",
       "  'params': {'frac_dropout': 0.0, 'n_epochs': 2.0, 'num_units': 50.0}},\n",
       " {'target': 0.6969146330955521,\n",
       "  'params': {'frac_dropout': 0.11200611868928129,\n",
       "   'n_epochs': 2.6493935729804523,\n",
       "   'num_units': 700.3325393188735}}]"
      ]
     },
     "execution_count": 25,
     "metadata": {},
     "output_type": "execute_result"
    }
   ],
   "source": [
    "gruBO.res"
   ]
  },
  {
   "cell_type": "code",
   "execution_count": 26,
   "metadata": {},
   "outputs": [
    {
     "data": {
      "text/plain": [
       "{'target': 0.8553840512899742,\n",
       " 'params': {'frac_dropout': 0.0,\n",
       "  'n_epochs': 15.99,\n",
       "  'num_units': 507.37578505776565}}"
      ]
     },
     "execution_count": 26,
     "metadata": {},
     "output_type": "execute_result"
    }
   ],
   "source": [
    "gruBO.res[15]"
   ]
  },
  {
   "cell_type": "code",
   "execution_count": 29,
   "metadata": {},
   "outputs": [
    {
     "name": "stderr",
     "output_type": "stream",
     "text": [
      "/Users/liubing/opt/anaconda3/lib/python3.7/site-packages/Neural_Decoding/decoders.py:542: UserWarning: Update your `GRU` call to the Keras 2 API: `GRU(507, input_shape=(13, 69), dropout=0, recurrent_dropout=0)`\n",
      "  model.add(GRU(self.units,input_shape=(X_train.shape[1],X_train.shape[2]),dropout_W=self.dropout,dropout_U=self.dropout)) #Within recurrent layer, include dropout\n"
     ]
    },
    {
     "name": "stdout",
     "output_type": "stream",
     "text": [
      "R2s: [0.85544375 0.84540422]\n"
     ]
    }
   ],
   "source": [
    "#Declare model\n",
    "model_gru=GRUDecoder(units=507,dropout=0,num_epochs=16)\n",
    "\n",
    "#Fit model\n",
    "model_gru.fit(X_train,y_train)\n",
    "\n",
    "#Get predictions\n",
    "y_valid_predicted_gru=model_gru.predict(X_valid)\n",
    "\n",
    "#Get metric of fit\n",
    "R2s_gru=get_R2(y_valid,y_valid_predicted_gru)\n",
    "print('R2s:', R2s_gru)"
   ]
  },
  {
   "cell_type": "code",
   "execution_count": 30,
   "metadata": {},
   "outputs": [],
   "source": [
    "import scipy.io as sio\n",
    "sio.savemat('decoding_data_1600ms_gru_optimized_pa29.mat',{'y_valid': y_valid,'y_train_mean': y_train_mean, 'y_valid_predicted_gru': y_valid_predicted_gru,'R2s_gru':R2s_gru,'gruBO':gruBO})"
   ]
  },
  {
   "cell_type": "code",
   "execution_count": null,
   "metadata": {},
   "outputs": [],
   "source": []
  },
  {
   "cell_type": "code",
   "execution_count": null,
   "metadata": {},
   "outputs": [],
   "source": []
  },
  {
   "cell_type": "code",
   "execution_count": 12,
   "metadata": {},
   "outputs": [],
   "source": [
    "#Import standard packages\n",
    "import numpy as np\n",
    "import matplotlib.pyplot as plt\n",
    "%matplotlib inline\n",
    "from scipy import io\n",
    "from scipy import stats\n",
    "import pickle\n",
    "import time\n",
    "# If you would prefer to load the '.h5' example file rather than the '.pickle' example file. You need the deepdish package\n",
    "# import deepdish as dd \n",
    "\n",
    "#Import function to get the covariate matrix that includes spike history from previous bins\n",
    "from Neural_Decoding.preprocessing_funcs import get_spikes_with_history\n",
    "\n",
    "#Import metrics\n",
    "from Neural_Decoding.metrics import get_R2\n",
    "from Neural_Decoding.metrics import get_rho\n",
    "\n",
    "#Import decoder functions\n",
    "from Neural_Decoding.decoders import WienerCascadeDecoder\n",
    "from Neural_Decoding.decoders import WienerFilterDecoder\n",
    "from Neural_Decoding.decoders import DenseNNDecoder\n",
    "from Neural_Decoding.decoders import SimpleRNNDecoder\n",
    "from Neural_Decoding.decoders import GRUDecoder\n",
    "from Neural_Decoding.decoders import LSTMDecoder\n",
    "from Neural_Decoding.decoders import XGBoostDecoder\n",
    "from Neural_Decoding.decoders import SVRDecoder\n",
    "\n",
    "#Import hyperparameter optimization packages\n",
    "#If either are not installed, give a warning\n",
    "try:\n",
    "    from bayes_opt import BayesianOptimization\n",
    "except ImportError:\n",
    "    print(\"\\nWARNING: BayesianOptimization package is not installed. You will be unable to use section 4.\")\n",
    "    pass\n",
    "\n",
    "try:\n",
    "    from hyperopt import fmin, hp, Trials, tpe, STATUS_OK\n",
    "except ImportError:\n",
    "    print(\"\\nWARNING: hyperopt package is not installed. You will be unable to use section 5.\")\n",
    "    pass"
   ]
  },
  {
   "cell_type": "code",
   "execution_count": 21,
   "metadata": {},
   "outputs": [],
   "source": [
    "def lstm_evaluate(num_units,frac_dropout,n_epochs):\n",
    "    #The parameters need to be in the correct format for the decoder, so we do that below\n",
    "    num_units=int(num_units)\n",
    "    frac_dropout=float(frac_dropout)\n",
    "    n_epochs=int(n_epochs)\n",
    "    #Declare and fit decoder\n",
    "    model_lstm=LSTMDecoder(units=num_units,dropout=frac_dropout,num_epochs=n_epochs)\n",
    "    model_lstm.fit(X_train,y_train)\n",
    "    #Make predictions and get R2 values on validation set\n",
    "    y_valid_predicted_lstm=model_lstm.predict(X_valid)\n",
    "    return np.mean(get_R2(y_valid,y_valid_predicted_lstm))"
   ]
  },
  {
   "cell_type": "code",
   "execution_count": 22,
   "metadata": {},
   "outputs": [
    {
     "name": "stderr",
     "output_type": "stream",
     "text": [
      "/Users/liubing/opt/anaconda3/lib/python3.7/site-packages/Neural_Decoding/decoders.py:621: UserWarning: Update your `LSTM` call to the Keras 2 API: `LSTM(456, input_shape=(13, 69), dropout=0.14293153..., recurrent_dropout=0.14293153...)`\n",
      "  model.add(LSTM(self.units,input_shape=(X_train.shape[1],X_train.shape[2]),dropout_W=self.dropout,dropout_U=self.dropout)) #Within recurrent layer, include dropout\n",
      "/Users/liubing/opt/anaconda3/lib/python3.7/site-packages/Neural_Decoding/decoders.py:621: UserWarning: Update your `LSTM` call to the Keras 2 API: `LSTM(188, input_shape=(13, 69), dropout=0.08236208..., recurrent_dropout=0.08236208...)`\n",
      "  model.add(LSTM(self.units,input_shape=(X_train.shape[1],X_train.shape[2]),dropout_W=self.dropout,dropout_U=self.dropout)) #Within recurrent layer, include dropout\n",
      "/Users/liubing/opt/anaconda3/lib/python3.7/site-packages/Neural_Decoding/decoders.py:621: UserWarning: Update your `LSTM` call to the Keras 2 API: `LSTM(451, input_shape=(13, 69), dropout=0.26288974..., recurrent_dropout=0.26288974...)`\n",
      "  model.add(LSTM(self.units,input_shape=(X_train.shape[1],X_train.shape[2]),dropout_W=self.dropout,dropout_U=self.dropout)) #Within recurrent layer, include dropout\n",
      "/Users/liubing/opt/anaconda3/lib/python3.7/site-packages/Neural_Decoding/decoders.py:621: UserWarning: Update your `LSTM` call to the Keras 2 API: `LSTM(162, input_shape=(13, 69), dropout=0.42976338..., recurrent_dropout=0.42976338...)`\n",
      "  model.add(LSTM(self.units,input_shape=(X_train.shape[1],X_train.shape[2]),dropout_W=self.dropout,dropout_U=self.dropout)) #Within recurrent layer, include dropout\n",
      "/Users/liubing/opt/anaconda3/lib/python3.7/site-packages/Neural_Decoding/decoders.py:621: UserWarning: Update your `LSTM` call to the Keras 2 API: `LSTM(133, input_shape=(13, 69), dropout=0.17944255..., recurrent_dropout=0.17944255...)`\n",
      "  model.add(LSTM(self.units,input_shape=(X_train.shape[1],X_train.shape[2]),dropout_W=self.dropout,dropout_U=self.dropout)) #Within recurrent layer, include dropout\n",
      "/Users/liubing/opt/anaconda3/lib/python3.7/site-packages/Neural_Decoding/decoders.py:621: UserWarning: Update your `LSTM` call to the Keras 2 API: `LSTM(197, input_shape=(13, 69), dropout=0.22996736..., recurrent_dropout=0.22996736...)`\n",
      "  model.add(LSTM(self.units,input_shape=(X_train.shape[1],X_train.shape[2]),dropout_W=self.dropout,dropout_U=self.dropout)) #Within recurrent layer, include dropout\n",
      "/Users/liubing/opt/anaconda3/lib/python3.7/site-packages/Neural_Decoding/decoders.py:621: UserWarning: Update your `LSTM` call to the Keras 2 API: `LSTM(206, input_shape=(13, 69), dropout=0.44351265..., recurrent_dropout=0.44351265...)`\n",
      "  model.add(LSTM(self.units,input_shape=(X_train.shape[1],X_train.shape[2]),dropout_W=self.dropout,dropout_U=self.dropout)) #Within recurrent layer, include dropout\n",
      "/Users/liubing/opt/anaconda3/lib/python3.7/site-packages/Neural_Decoding/decoders.py:621: UserWarning: Update your `LSTM` call to the Keras 2 API: `LSTM(111, input_shape=(13, 69), dropout=0.37616711..., recurrent_dropout=0.37616711...)`\n",
      "  model.add(LSTM(self.units,input_shape=(X_train.shape[1],X_train.shape[2]),dropout_W=self.dropout,dropout_U=self.dropout)) #Within recurrent layer, include dropout\n",
      "/Users/liubing/opt/anaconda3/lib/python3.7/site-packages/Neural_Decoding/decoders.py:621: UserWarning: Update your `LSTM` call to the Keras 2 API: `LSTM(613, input_shape=(13, 69), dropout=0.41338294..., recurrent_dropout=0.41338294...)`\n",
      "  model.add(LSTM(self.units,input_shape=(X_train.shape[1],X_train.shape[2]),dropout_W=self.dropout,dropout_U=self.dropout)) #Within recurrent layer, include dropout\n",
      "/Users/liubing/opt/anaconda3/lib/python3.7/site-packages/Neural_Decoding/decoders.py:621: UserWarning: Update your `LSTM` call to the Keras 2 API: `LSTM(226, input_shape=(13, 69), dropout=0.30875543..., recurrent_dropout=0.30875543...)`\n",
      "  model.add(LSTM(self.units,input_shape=(X_train.shape[1],X_train.shape[2]),dropout_W=self.dropout,dropout_U=self.dropout)) #Within recurrent layer, include dropout\n",
      "/Users/liubing/opt/anaconda3/lib/python3.7/site-packages/Neural_Decoding/decoders.py:621: UserWarning: Update your `LSTM` call to the Keras 2 API: `LSTM(700, input_shape=(13, 69), dropout=0.0, recurrent_dropout=0.0)`\n",
      "  model.add(LSTM(self.units,input_shape=(X_train.shape[1],X_train.shape[2]),dropout_W=self.dropout,dropout_U=self.dropout)) #Within recurrent layer, include dropout\n",
      "/Users/liubing/opt/anaconda3/lib/python3.7/site-packages/Neural_Decoding/decoders.py:629: UserWarning: The `nb_epoch` argument in `fit` has been renamed `epochs`.\n",
      "  model.fit(X_train,y_train,nb_epoch=self.num_epochs,verbose=self.verbose) #Fit the model\n",
      "/Users/liubing/opt/anaconda3/lib/python3.7/site-packages/Neural_Decoding/decoders.py:621: UserWarning: Update your `LSTM` call to the Keras 2 API: `LSTM(454, input_shape=(13, 69), dropout=0.44270137..., recurrent_dropout=0.44270137...)`\n",
      "  model.add(LSTM(self.units,input_shape=(X_train.shape[1],X_train.shape[2]),dropout_W=self.dropout,dropout_U=self.dropout)) #Within recurrent layer, include dropout\n",
      "/Users/liubing/opt/anaconda3/lib/python3.7/site-packages/Neural_Decoding/decoders.py:629: UserWarning: The `nb_epoch` argument in `fit` has been renamed `epochs`.\n",
      "  model.fit(X_train,y_train,nb_epoch=self.num_epochs,verbose=self.verbose) #Fit the model\n",
      "/Users/liubing/opt/anaconda3/lib/python3.7/site-packages/Neural_Decoding/decoders.py:621: UserWarning: Update your `LSTM` call to the Keras 2 API: `LSTM(332, input_shape=(13, 69), dropout=0.49999999..., recurrent_dropout=0.49999999...)`\n",
      "  model.add(LSTM(self.units,input_shape=(X_train.shape[1],X_train.shape[2]),dropout_W=self.dropout,dropout_U=self.dropout)) #Within recurrent layer, include dropout\n",
      "/Users/liubing/opt/anaconda3/lib/python3.7/site-packages/Neural_Decoding/decoders.py:629: UserWarning: The `nb_epoch` argument in `fit` has been renamed `epochs`.\n",
      "  model.fit(X_train,y_train,nb_epoch=self.num_epochs,verbose=self.verbose) #Fit the model\n",
      "/Users/liubing/opt/anaconda3/lib/python3.7/site-packages/Neural_Decoding/decoders.py:621: UserWarning: Update your `LSTM` call to the Keras 2 API: `LSTM(449, input_shape=(13, 69), dropout=0.36114173..., recurrent_dropout=0.36114173...)`\n",
      "  model.add(LSTM(self.units,input_shape=(X_train.shape[1],X_train.shape[2]),dropout_W=self.dropout,dropout_U=self.dropout)) #Within recurrent layer, include dropout\n",
      "/Users/liubing/opt/anaconda3/lib/python3.7/site-packages/Neural_Decoding/decoders.py:629: UserWarning: The `nb_epoch` argument in `fit` has been renamed `epochs`.\n",
      "  model.fit(X_train,y_train,nb_epoch=self.num_epochs,verbose=self.verbose) #Fit the model\n",
      "/Users/liubing/opt/anaconda3/lib/python3.7/site-packages/Neural_Decoding/decoders.py:621: UserWarning: Update your `LSTM` call to the Keras 2 API: `LSTM(50, input_shape=(13, 69), dropout=0.0, recurrent_dropout=0.0)`\n",
      "  model.add(LSTM(self.units,input_shape=(X_train.shape[1],X_train.shape[2]),dropout_W=self.dropout,dropout_U=self.dropout)) #Within recurrent layer, include dropout\n",
      "/Users/liubing/opt/anaconda3/lib/python3.7/site-packages/Neural_Decoding/decoders.py:629: UserWarning: The `nb_epoch` argument in `fit` has been renamed `epochs`.\n",
      "  model.fit(X_train,y_train,nb_epoch=self.num_epochs,verbose=self.verbose) #Fit the model\n",
      "/Users/liubing/opt/anaconda3/lib/python3.7/site-packages/Neural_Decoding/decoders.py:621: UserWarning: Update your `LSTM` call to the Keras 2 API: `LSTM(552, input_shape=(13, 69), dropout=0.22235686..., recurrent_dropout=0.22235686...)`\n",
      "  model.add(LSTM(self.units,input_shape=(X_train.shape[1],X_train.shape[2]),dropout_W=self.dropout,dropout_U=self.dropout)) #Within recurrent layer, include dropout\n",
      "/Users/liubing/opt/anaconda3/lib/python3.7/site-packages/Neural_Decoding/decoders.py:629: UserWarning: The `nb_epoch` argument in `fit` has been renamed `epochs`.\n",
      "  model.fit(X_train,y_train,nb_epoch=self.num_epochs,verbose=self.verbose) #Fit the model\n",
      "/Users/liubing/opt/anaconda3/lib/python3.7/site-packages/Neural_Decoding/decoders.py:621: UserWarning: Update your `LSTM` call to the Keras 2 API: `LSTM(278, input_shape=(13, 69), dropout=0.31193825..., recurrent_dropout=0.31193825...)`\n",
      "  model.add(LSTM(self.units,input_shape=(X_train.shape[1],X_train.shape[2]),dropout_W=self.dropout,dropout_U=self.dropout)) #Within recurrent layer, include dropout\n"
     ]
    },
    {
     "name": "stderr",
     "output_type": "stream",
     "text": [
      "/Users/liubing/opt/anaconda3/lib/python3.7/site-packages/Neural_Decoding/decoders.py:629: UserWarning: The `nb_epoch` argument in `fit` has been renamed `epochs`.\n",
      "  model.fit(X_train,y_train,nb_epoch=self.num_epochs,verbose=self.verbose) #Fit the model\n",
      "/Users/liubing/opt/anaconda3/lib/python3.7/site-packages/Neural_Decoding/decoders.py:621: UserWarning: Update your `LSTM` call to the Keras 2 API: `LSTM(652, input_shape=(13, 69), dropout=0.18638727..., recurrent_dropout=0.18638727...)`\n",
      "  model.add(LSTM(self.units,input_shape=(X_train.shape[1],X_train.shape[2]),dropout_W=self.dropout,dropout_U=self.dropout)) #Within recurrent layer, include dropout\n",
      "/Users/liubing/opt/anaconda3/lib/python3.7/site-packages/Neural_Decoding/decoders.py:629: UserWarning: The `nb_epoch` argument in `fit` has been renamed `epochs`.\n",
      "  model.fit(X_train,y_train,nb_epoch=self.num_epochs,verbose=self.verbose) #Fit the model\n",
      "/Users/liubing/opt/anaconda3/lib/python3.7/site-packages/Neural_Decoding/decoders.py:621: UserWarning: Update your `LSTM` call to the Keras 2 API: `LSTM(380, input_shape=(13, 69), dropout=0.20246547..., recurrent_dropout=0.20246547...)`\n",
      "  model.add(LSTM(self.units,input_shape=(X_train.shape[1],X_train.shape[2]),dropout_W=self.dropout,dropout_U=self.dropout)) #Within recurrent layer, include dropout\n",
      "/Users/liubing/opt/anaconda3/lib/python3.7/site-packages/Neural_Decoding/decoders.py:629: UserWarning: The `nb_epoch` argument in `fit` has been renamed `epochs`.\n",
      "  model.fit(X_train,y_train,nb_epoch=self.num_epochs,verbose=self.verbose) #Fit the model\n",
      "/Users/liubing/opt/anaconda3/lib/python3.7/site-packages/Neural_Decoding/decoders.py:621: UserWarning: Update your `LSTM` call to the Keras 2 API: `LSTM(446, input_shape=(13, 69), dropout=0.26880076..., recurrent_dropout=0.26880076...)`\n",
      "  model.add(LSTM(self.units,input_shape=(X_train.shape[1],X_train.shape[2]),dropout_W=self.dropout,dropout_U=self.dropout)) #Within recurrent layer, include dropout\n",
      "/Users/liubing/opt/anaconda3/lib/python3.7/site-packages/Neural_Decoding/decoders.py:629: UserWarning: The `nb_epoch` argument in `fit` has been renamed `epochs`.\n",
      "  model.fit(X_train,y_train,nb_epoch=self.num_epochs,verbose=self.verbose) #Fit the model\n"
     ]
    }
   ],
   "source": [
    "#Do bayesian optimization, and set limits of hyperparameters\n",
    "lstmBO = BayesianOptimization(lstm_evaluate, {'num_units': (50, 700.99), 'frac_dropout': (0,.5), 'n_epochs': (2,15.99)},verbose=0)\n",
    "\n",
    "#Set number of initial runs (init_points) and subsequent tests (n_iter), and do the optimization\n",
    "#kappa is a parameter that sets exploration vs exploitation in the algorithm - 10 seems to work pretty welldnnBO = BayesianOptimization(dnn_evaluate, {'num_units': (50, 500), 'frac_dropout': (0.,.5), 'n_epochs': (2,15)})\n",
    "lstmBO.maximize(init_points=10, n_iter=10, kappa=10)"
   ]
  },
  {
   "cell_type": "code",
   "execution_count": 23,
   "metadata": {},
   "outputs": [
    {
     "data": {
      "text/plain": [
       "[{'target': 0.8615597385839979,\n",
       "  'params': {'frac_dropout': 0.1429315373220047,\n",
       "   'n_epochs': 5.543438396960798,\n",
       "   'num_units': 456.2113080751765}},\n",
       " {'target': 0.8564093930888901,\n",
       "  'params': {'frac_dropout': 0.08236208414370538,\n",
       "   'n_epochs': 3.166460328644348,\n",
       "   'num_units': 188.2807144437569}},\n",
       " {'target': 0.8761270403579238,\n",
       "  'params': {'frac_dropout': 0.262889742904417,\n",
       "   'n_epochs': 11.972300895457414,\n",
       "   'num_units': 451.16614926513245}},\n",
       " {'target': 0.8498630268898533,\n",
       "  'params': {'frac_dropout': 0.4297633803239204,\n",
       "   'n_epochs': 9.474176497051081,\n",
       "   'num_units': 162.71458646929867}},\n",
       " {'target': 0.8453809019465925,\n",
       "  'params': {'frac_dropout': 0.1794425531551999,\n",
       "   'n_epochs': 8.339075323600103,\n",
       "   'num_units': 133.39115728472672}},\n",
       " {'target': 0.8499471000474301,\n",
       "  'params': {'frac_dropout': 0.22996736318639588,\n",
       "   'n_epochs': 2.6317766996182215,\n",
       "   'num_units': 197.13554223556858}},\n",
       " {'target': 0.8290660090434514,\n",
       "  'params': {'frac_dropout': 0.4435126542841186,\n",
       "   'n_epochs': 5.030527520299001,\n",
       "   'num_units': 206.8546970563524}},\n",
       " {'target': 0.8150725364634779,\n",
       "  'params': {'frac_dropout': 0.3761671165366133,\n",
       "   'n_epochs': 2.9106554947427434,\n",
       "   'num_units': 111.21140624863122}},\n",
       " {'target': 0.8714314858444216,\n",
       "  'params': {'frac_dropout': 0.4133829424616174,\n",
       "   'n_epochs': 15.649851229727854,\n",
       "   'num_units': 613.4670449088993}},\n",
       " {'target': 0.8671546429565646,\n",
       "  'params': {'frac_dropout': 0.30875543084520957,\n",
       "   'n_epochs': 14.150600687881216,\n",
       "   'num_units': 226.09819900412558}},\n",
       " {'target': 0.8679882847959202,\n",
       "  'params': {'frac_dropout': 0.0, 'n_epochs': 2.0, 'num_units': 700.99}},\n",
       " {'target': 0.8585187275945529,\n",
       "  'params': {'frac_dropout': 0.4427013777741205,\n",
       "   'n_epochs': 15.31439377238327,\n",
       "   'num_units': 454.0098862092184}},\n",
       " {'target': 0.8207580234572371,\n",
       "  'params': {'frac_dropout': 0.49999999554220304,\n",
       "   'n_epochs': 2.0,\n",
       "   'num_units': 332.4281319346154}},\n",
       " {'target': 0.878025548939392,\n",
       "  'params': {'frac_dropout': 0.36114173268563016,\n",
       "   'n_epochs': 15.7374055861977,\n",
       "   'num_units': 449.1619319786753}},\n",
       " {'target': 0.795343395589325,\n",
       "  'params': {'frac_dropout': 0.0, 'n_epochs': 15.99, 'num_units': 50.0}},\n",
       " {'target': 0.8544077172951006,\n",
       "  'params': {'frac_dropout': 0.22235686248615782,\n",
       "   'n_epochs': 2.0975085137893195,\n",
       "   'num_units': 552.2556216130354}},\n",
       " {'target': 0.8496665249830644,\n",
       "  'params': {'frac_dropout': 0.3119382541553242,\n",
       "   'n_epochs': 2.0213049403835925,\n",
       "   'num_units': 278.18009781963815}},\n",
       " {'target': 0.8663254744801605,\n",
       "  'params': {'frac_dropout': 0.18638727677105654,\n",
       "   'n_epochs': 2.008908957719813,\n",
       "   'num_units': 652.2003977374882}},\n",
       " {'target': 0.8760846644204496,\n",
       "  'params': {'frac_dropout': 0.20246547745106303,\n",
       "   'n_epochs': 15.896700044803719,\n",
       "   'num_units': 380.9860225091664}},\n",
       " {'target': 0.8786430998183461,\n",
       "  'params': {'frac_dropout': 0.2688007662853053,\n",
       "   'n_epochs': 11.26475159526162,\n",
       "   'num_units': 446.9557800687452}}]"
      ]
     },
     "execution_count": 23,
     "metadata": {},
     "output_type": "execute_result"
    }
   ],
   "source": [
    "lstmBO.res"
   ]
  },
  {
   "cell_type": "code",
   "execution_count": 24,
   "metadata": {},
   "outputs": [
    {
     "data": {
      "text/plain": [
       "20"
      ]
     },
     "execution_count": 24,
     "metadata": {},
     "output_type": "execute_result"
    }
   ],
   "source": [
    "len(lstmBO.res)"
   ]
  },
  {
   "cell_type": "code",
   "execution_count": 25,
   "metadata": {},
   "outputs": [
    {
     "data": {
      "text/plain": [
       "{'target': 0.8786430998183461,\n",
       " 'params': {'frac_dropout': 0.2688007662853053,\n",
       "  'n_epochs': 11.26475159526162,\n",
       "  'num_units': 446.9557800687452}}"
      ]
     },
     "execution_count": 25,
     "metadata": {},
     "output_type": "execute_result"
    }
   ],
   "source": [
    "lstmBO.res[19]"
   ]
  },
  {
   "cell_type": "code",
   "execution_count": 26,
   "metadata": {},
   "outputs": [
    {
     "name": "stderr",
     "output_type": "stream",
     "text": [
      "/Users/liubing/opt/anaconda3/lib/python3.7/site-packages/Neural_Decoding/decoders.py:621: UserWarning: Update your `LSTM` call to the Keras 2 API: `LSTM(447, input_shape=(13, 69), dropout=0.269, recurrent_dropout=0.269)`\n",
      "  model.add(LSTM(self.units,input_shape=(X_train.shape[1],X_train.shape[2]),dropout_W=self.dropout,dropout_U=self.dropout)) #Within recurrent layer, include dropout\n"
     ]
    },
    {
     "name": "stdout",
     "output_type": "stream",
     "text": [
      "R2s: [0.86792489 0.87065952]\n"
     ]
    }
   ],
   "source": [
    "#Declare model\n",
    "model_lstm=LSTMDecoder(units=447,dropout=0.269,num_epochs=11)\n",
    "\n",
    "#Fit model\n",
    "model_lstm.fit(X_train,y_train)\n",
    "\n",
    "#Get predictions\n",
    "y_valid_predicted_lstm=model_lstm.predict(X_valid)\n",
    "\n",
    "#Get metric of fit\n",
    "R2s_lstm=get_R2(y_valid,y_valid_predicted_lstm)\n",
    "print('R2s:', R2s_lstm)"
   ]
  },
  {
   "cell_type": "code",
   "execution_count": 27,
   "metadata": {},
   "outputs": [],
   "source": [
    "import scipy.io as sio\n",
    "sio.savemat('decoding_data_1600ms_lstm_optimized_pa29.mat',{'y_valid': y_valid,'y_train_mean': y_train_mean, 'y_valid_predicted_lstm': y_valid_predicted_lstm, 'R2s_lstm':R2s_lstm,'lstmBO':lstmBO})"
   ]
  },
  {
   "cell_type": "code",
   "execution_count": 29,
   "metadata": {},
   "outputs": [
    {
     "data": {
      "text/plain": [
       "[<matplotlib.lines.Line2D at 0x7fbfdfcba910>]"
      ]
     },
     "execution_count": 29,
     "metadata": {},
     "output_type": "execute_result"
    },
    {
     "data": {
      "image/png": "[encoded data removed]",
      "text/plain": [
       "<Figure size 432x288 with 1 Axes>"
      ]
     },
     "metadata": {
      "needs_background": "light"
     },
     "output_type": "display_data"
    }
   ],
   "source": [
    "#As an example, I plot an example 1000 values of the x velocity (column index 0), both true and predicted with the Wiener filter\n",
    "#Note that I add back in the mean value, so that both true and predicted values are in the original coordinates\n",
    "fig_x_lstm=plt.figure()\n",
    "plt.plot(y_valid[1400:2400,0]+y_train_mean[0],'b')\n",
    "plt.plot(y_valid_predicted_lstm[1400:2400,0]+y_train_mean[0],'r')\n",
    "\n",
    "#Save figure\n",
    "# fig_x_wf.savefig('x_velocity_decoding.eps')"
   ]
  },
  {
   "cell_type": "code",
   "execution_count": null,
   "metadata": {},
   "outputs": [],
   "source": []
  }
 ],
 "metadata": {
  "kernelspec": {
   "display_name": "Python 3",
   "language": "python",
   "name": "python3"
  },
  "language_info": {
   "codemirror_mode": {
    "name": "ipython",
    "version": 3
   },
   "file_extension": ".py",
   "mimetype": "text/x-python",
   "name": "python",
   "nbconvert_exporter": "python",
   "pygments_lexer": "ipython3",
   "version": "3.9.5"
  }
 },
 "nbformat": 4,
 "nbformat_minor": 4
}
