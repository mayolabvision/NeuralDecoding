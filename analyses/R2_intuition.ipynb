{
 "cells": [
  {
   "cell_type": "markdown",
   "id": "1d4e41b8",
   "metadata": {},
   "source": [
    "# Exploring the intuition behind the $R^2$ metric\n",
    "\n",
    "**$R^2$ score (coefficient of determination) $\\rightarrow$** measures how well a regression model performs compared to a simple mean baseline model. It can take on negative values when the model performs worse than a horizontal line (the mean of the target values).\n",
    "\n",
    "$R^2 = 1.0 \\rightarrow$ the model perfectly fits the data\n",
    "\n",
    "$R^2 = 0.0 \\rightarrow$ the model performs no better than a horizontal line (mean of target values)\n",
    "\n",
    "$R^2 < 0.0 \\rightarrow$ the model performs worse than a horizontal line, indicating that it does not explain the variance and is a poor fit for the data\n",
    "\n",
    "--------------------------------------------------------------------------\n",
    "**Mathematical explanation**: \n",
    "\n",
    "$ y = \\text{true data, } \\hat{y} = \\text{predicted data, } \\bar{y} = \\text{mean of true data}$\n",
    "\n",
    "$\n",
    "\\begin{align}\n",
    "    R^2 &= 1 - \\frac{SSR}{SST}\n",
    "         = \\frac{\\text{distance between predicted and true data}}{\\text{distance between true data and mean of true data}} \\\\\n",
    "    &= \\frac{\\sum_{n=1}^{N} \\left(\\hat{y} - y\\right)^2}{\\sum_{n=1}^{N} \\left(y - \\bar{y}\\right)^2}\n",
    "\\end{align}\n",
    "$\n"
   ]
  },
  {
   "cell_type": "code",
   "execution_count": 3,
   "id": "767398d3",
   "metadata": {},
   "outputs": [],
   "source": [
    "import numpy as np\n",
    "from sklearn.linear_model import LinearRegression\n",
    "from sklearn.ensemble import RandomForestRegressor\n",
    "from sklearn.metrics import r2_score\n",
    "from scipy.stats import pearsonr\n",
    "import matplotlib.pyplot as plt\n",
    "\n",
    "# R2 function (based on equation above)\n",
    "def get_R2(y_test, y_test_pred):\n",
    "    y_mean = np.mean(y_test)\n",
    "    ssr = np.sum((y_test_pred - y_test) ** 2)\n",
    "    sst = np.sum((y_test - y_mean) ** 2)\n",
    "    R2 = 1 - ssr / sst\n",
    "    return R2,ssr,sst\n",
    "\n",
    "def get_rho(y_test,y_test_pred):\n",
    "    rho,_ = pearsonr(y_test.flatten(), y_test_pred.flatten())\n",
    "    if np.isnan(rho):\n",
    "        rho = 0.0\n",
    "    return rho\n"
   ]
  },
  {
   "cell_type": "markdown",
   "id": "f6e4c9f9",
   "metadata": {},
   "source": [
    "## Toy data with simple linear regression\n",
    "\n",
    "Using a set of toy data, I'll show three examples of potential $R^2$ values based on your model and data. \n",
    "\n",
    "**1. Positive $R^2$:** Using the weights from a simple linear regression model trained on a subset of data, you can predict the target test data better than if you had just guessed the mean of the true data.\n",
    "\n",
    "*Congrats, your model has better prediction accuracy than if you had just lazily picked the data mean.*\n",
    "\n",
    "**2. Zero $R^2$:** If the best fit line of the simple linear regression model trained on a subset of data is exactly the same as the mean of the true data, then your prediction of the target test data will be the same as the mean of the true data. You could also interpret this as relying soley on the labels of the training data, and completely ignoring the fitted linear regression model and your test input data.\n",
    "\n",
    "*Your model doesn't totally suck, but it performs as well as if you had just picked the data mean.*\n",
    "\n",
    "**3. Negative $R^2$:** Using the weights from a simple linear regression model trained on a subset of the data, your predictions of the target data are worse than if you had guessed the mean of the true data.\n",
    "\n",
    "*Your model sucks super bad, you might have well just picked the data mean instead.*\n"
   ]
  },
  {
   "cell_type": "code",
   "execution_count": 10,
   "id": "a3ef3b26",
   "metadata": {},
   "outputs": [
    {
     "name": "stderr",
     "output_type": "stream",
     "text": [
      "/Users/kendranoneman/miniforge3/envs/neuraldecoding/lib/python3.10/site-packages/scipy/stats/_stats_py.py:4424: ConstantInputWarning: An input array is constant; the correlation coefficient is not defined.\n",
      "  warnings.warn(stats.ConstantInputWarning(msg))\n"
     ]
    },
    {
     "data": {
      "text/plain": [
       "Text(0.5, 1.0, '$R^2$ = -1.6, $\\\\rho$ = -0.5')"
      ]
     },
     "execution_count": 10,
     "metadata": {},
     "output_type": "execute_result"
    },
    {
     "data": {
      "image/png": "[encoded data removed]",
      "text/plain": [
       "<Figure size 1300x300 with 3 Axes>"
      ]
     },
     "metadata": {},
     "output_type": "display_data"
    }
   ],
   "source": [
    "# Generate some random data\n",
    "np.random.seed(0)\n",
    "X = np.random.rand(100, 1)\n",
    "y = 0.5 * X + 5 + np.random.rand(100, 1)*1.5 + 1.5 * X ** 2\n",
    "\n",
    "# Split the data into training and testing sets\n",
    "X_train, X_test = X[:80], X[80:]\n",
    "y_train, y_test = y[:80], y[80:]\n",
    "\n",
    "X_train_mean=np.nanmean(X_train) #Mean of training data\n",
    "X_train_std=np.nanstd(X_train) #Stdev of training data\n",
    "X_train=(X_train-X_train_mean)/X_train_std #Z-score training data\n",
    "X_test=(X_test-X_train_mean)/X_train_std #Preprocess testing data in same manner as training data\n",
    "\n",
    "# Train a simple linear regression model\n",
    "model = LinearRegression()\n",
    "model.fit(X_train, y_train)\n",
    "\n",
    "y_test_pred = model.predict(X_test)\n",
    "\n",
    "#########################################################\n",
    "fig, axs = plt.subplots(1, 3, figsize=(13, 3),sharey=True, sharex=True)\n",
    "\n",
    "##### R^2 = normal #####\n",
    "# Using the trained linear regression model, predict the y-labels for the left out X data\n",
    "y_test_pred3 = model.predict(X_test)\n",
    "R23,ssr3,sst3 = get_R2(y_test, y_test_pred3)\n",
    "rho3 = get_rho(y_test, y_test_pred3)\n",
    "\n",
    "i = 0\n",
    "axs[i].scatter(X_test, y_test, color='black',label='true data')\n",
    "axs[i].scatter(X_test, y_test_pred3, color='red', label='predicted data')\n",
    "axs[i].axhline(np.mean(y_test), color='black', linestyle='--', label='mean of true data')\n",
    "axs[i].set_xlabel('input (x)')\n",
    "axs[i].set_ylabel('output (y)')\n",
    "axs[i].set_title(f'$R^2$ = {R23:.1f}, $\\\\rho$ = {rho3:.1f}')\n",
    "\n",
    "\n",
    "##### R^2 = zero #####\n",
    "# Now what if you didn't use the linear regression model to make your predictions....\n",
    "# But instead, just estimated that every input would result in the mean of the true data\n",
    "\n",
    "y_test_pred2 = np.full_like(y_test_pred, np.mean(y_test)) \n",
    "R22,ssr2,sst2 = get_R2(y_test, y_test_pred2)\n",
    "rho2 = get_rho(y_test, y_test_pred2)\n",
    "\n",
    "i = 1\n",
    "axs[i].scatter(X_test, y_test, color='black',label='true data')\n",
    "axs[i].scatter(X_test, y_test_pred2, color='red', label='predicted data')\n",
    "axs[i].axhline(np.mean(y_test), color='black', linestyle='--', label='mean of true data')\n",
    "axs[i].set_xlabel('input (x)')\n",
    "axs[i].set_ylabel('output (y)')\n",
    "axs[i].set_title(f'$R^2$ = {R22:.1f}, $\\\\rho$ = {rho2:.1f}')\n",
    "\n",
    "##### R^2 = shuffled #####\n",
    "# Now what if you used the trained model, but the test data for predicting left out y-labels are shuffled\n",
    "# So the mapping between the inputs and outputs is broken, and your prediction will be worse than if you had just guessed the mean of the true data\n",
    "X_test1 = X_test\n",
    "np.random.shuffle(X_test1)\n",
    "\n",
    "y_test_pred1 = model.predict(X_test1)\n",
    "R21,ssr1,ss1t = get_R2(y_test, y_test_pred1)\n",
    "rho1 = get_rho(y_test, y_test_pred1)\n",
    "\n",
    "i = 2\n",
    "axs[i].scatter(X_test, y_test, color='black',label='true data')\n",
    "axs[i].scatter(X_test, y_test_pred1, color='red', label='predicted data')\n",
    "axs[i].axhline(np.mean(y_test), color='black', linestyle='--', label='mean of true data')\n",
    "#axs[i].legend(loc='upper left', bbox_to_anchor=(1, 1))\n",
    "axs[i].set_xlabel('input (x)')\n",
    "axs[i].set_ylabel('output (y)')\n",
    "axs[i].set_title(f'$R^2$ = {R21:.1f}, $\\\\rho$ = {rho1:.1f}')\n"
   ]
  },
  {
   "cell_type": "markdown",
   "id": "15516011",
   "metadata": {},
   "source": [
    "When you shuffle the input test data during prediction, you are introducing randomness and breaking any structured relationship between the input features and the output. I'm doing this to establish a sort-of baseline or null hypothesis of model performance. The effect is more detrimental for more complex models like neural networks for the following reasons:\n",
    "\n",
    "1. Complexity of Learned Patterns: Complex models like neural networks have the capacity to learn intricate and non-linear patterns in the data. They often capture high-dimensional relationships between features, which are highly dependent on the order and structure of the input data during training. When you shuffle the data, you disrupt these learned patterns, leading to poor predictions.\n",
    "\n",
    "2. Overfitting: More complex models are prone to overfitting, where they memorize the training data rather than generalizing from it. Shuffling the data during testing exacerbates this issue, as the model may have memorized the training data's specific order and structure. When tested with shuffled data, the model's overfit patterns no longer apply.\n"
   ]
  },
  {
   "cell_type": "code",
   "execution_count": null,
   "id": "b66183ff",
   "metadata": {},
   "outputs": [],
   "source": []
  }
 ],
 "metadata": {
  "kernelspec": {
   "display_name": "neuraldecoding",
   "language": "python",
   "name": "neuraldecoding"
  },
  "language_info": {
   "codemirror_mode": {
    "name": "ipython",
    "version": 3
   },
   "file_extension": ".py",
   "mimetype": "text/x-python",
   "name": "python",
   "nbconvert_exporter": "python",
   "pygments_lexer": "ipython3",
   "version": "3.10.10"
  }
 },
 "nbformat": 4,
 "nbformat_minor": 5
}
