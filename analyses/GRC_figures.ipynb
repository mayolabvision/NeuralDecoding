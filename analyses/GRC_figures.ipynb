{
 "cells": [
  {
   "cell_type": "code",
   "execution_count": 37,
   "id": "e3698e6b",
   "metadata": {},
   "outputs": [],
   "source": [
    "import numpy as np\n",
    "import pandas as pd\n",
    "import os\n",
    "import sys\n",
    "import seaborn as sns\n",
    "import matplotlib.pyplot as plt\n",
    "import pickle\n",
    "import cmath\n",
    "\n",
    "cwd = os.getcwd()\n",
    "sys.path.append(cwd+\"/../handy_functions\")\n",
    "\n",
    "from concat_pickles import get_outputs,get_outputsSweep,print_df\n",
    "from scipy.stats import mannwhitneyu, normaltest\n",
    "from statannotations.Annotator import Annotator\n",
    "\n",
    "pal = sns.husl_palette(8)\n",
    "mtfef_pal = ['forestgreen','mediumpurple']\n",
    "\n",
    "data_folder = '/Users/kendranoneman/Projects/mayo/NeuralDecoding/runs'\n",
    "fig_folder = '/Users/kendranoneman/Projects/mayo/NeuralDecoding/figures/grc'"
   ]
  },
  {
   "cell_type": "code",
   "execution_count": 2,
   "id": "84088d74",
   "metadata": {},
   "outputs": [
    {
     "data": {
      "text/html": [
       "<div>\n",
       "<style scoped>\n",
       "    .dataframe tbody tr th:only-of-type {\n",
       "        vertical-align: middle;\n",
       "    }\n",
       "\n",
       "    .dataframe tbody tr th {\n",
       "        vertical-align: top;\n",
       "    }\n",
       "\n",
       "    .dataframe thead th {\n",
       "        text-align: right;\n",
       "    }\n",
       "</style>\n",
       "<table border=\"1\" class=\"dataframe\">\n",
       "  <thead>\n",
       "    <tr style=\"text-align: right;\">\n",
       "      <th></th>\n",
       "      <th>sess</th>\n",
       "      <th>repeat</th>\n",
       "      <th>outer_fold</th>\n",
       "      <th>nMT</th>\n",
       "      <th>nFEF</th>\n",
       "      <th>model</th>\n",
       "      <th>mean_R2</th>\n",
       "      <th>mean_rho</th>\n",
       "      <th>mean_R2_null</th>\n",
       "      <th>mean_rho_null</th>\n",
       "    </tr>\n",
       "  </thead>\n",
       "  <tbody>\n",
       "    <tr>\n",
       "      <th>0</th>\n",
       "      <td>16</td>\n",
       "      <td>0</td>\n",
       "      <td>0</td>\n",
       "      <td>24</td>\n",
       "      <td>24</td>\n",
       "      <td>0</td>\n",
       "      <td>-0.011687</td>\n",
       "      <td>-0.025916</td>\n",
       "      <td>-0.010374</td>\n",
       "      <td>-0.011118</td>\n",
       "    </tr>\n",
       "  </tbody>\n",
       "</table>\n",
       "</div>"
      ],
      "text/plain": [
       "   sess  repeat  outer_fold  nMT  nFEF  model   mean_R2  mean_rho   \n",
       "0    16       0           0   24    24      0 -0.011687 -0.025916  \\\n",
       "\n",
       "   mean_R2_null  mean_rho_null  \n",
       "0     -0.010374      -0.011118  "
      ]
     },
     "execution_count": 2,
     "metadata": {},
     "output_type": "execute_result"
    }
   ],
   "source": [
    "conditions = [\"bn0\"]\n",
    "column_names = ['sess','repeat','outer_fold','nMT','nFEF','model','mean_R2','mean_rho','mean_R2_null','mean_rho_null']\n",
    "df = get_outputs(data_folder+'/all_decoders',conditions,column_names)\n",
    "df.head(1)"
   ]
  },
  {
   "cell_type": "markdown",
   "id": "1d212a87",
   "metadata": {},
   "source": [
    "# FIGURE 2"
   ]
  },
  {
   "cell_type": "code",
   "execution_count": 85,
   "id": "917e1b56",
   "metadata": {},
   "outputs": [
    {
     "data": {
      "text/plain": [
       "[Text(0, 0.5, '')]"
      ]
     },
     "execution_count": 85,
     "metadata": {},
     "output_type": "execute_result"
    },
    {
     "data": {
      "image/png": "[encoded data removed]",
      "text/plain": [
       "<Figure size 800x400 with 1 Axes>"
      ]
     },
     "metadata": {},
     "output_type": "display_data"
    }
   ],
   "source": [
    "plt.rcParams.update({'font.size': 12})\n",
    "\n",
    "fig, ax = plt.subplots(1,1, figsize=(8,4))\n",
    "\n",
    "#'bad' sessions: 16\n",
    "#'semi' sessions: 18,20,34,38\n",
    "#'good' sessions: 19*,21,22,23*,24,25,27,28,29*,32,33,35\n",
    "hue_plot_params = {'data':df.loc[df['sess']==24], 'x':'model', 'y':'mean_R2', 'palette':'husl'}\n",
    "a = sns.boxplot(ax=ax, **hue_plot_params)\n",
    "#a.set_xticklabels(['wf','wc','xgb'])\n",
    "a.set_xticklabels(['wf','wc','xgb','svr','dnn','rnn','gru','lstm'], rotation=0)\n",
    "        \n",
    "a.set(xlabel=None)\n",
    "a.set(ylabel=None)\n",
    "\n",
    "#fig.savefig(fig_folder+'/model_R2.png', dpi=600, bbox_inches='tight') "
   ]
  },
  {
   "cell_type": "code",
   "execution_count": null,
   "id": "1c96c1ba",
   "metadata": {},
   "outputs": [],
   "source": [
    "with open(data_folder+'/all_decoders/fold06-m6-eyetrace.pickle', 'rb') as f:\n",
    "    y_test,y_test_predicted = pickle.load(f)\n",
    "    \n",
    "#plt.rcParams.update({'font.size': 14})\n",
    "x = np.arange(0, 31*50, 50) - 500\n",
    "print(x)\n",
    "fig, axes = plt.subplots(2,2,figsize=(5,3))\n",
    "fig.tight_layout()\n",
    "\n",
    "start_end = [1272,1303]\n",
    "axes[0,0].plot(x,y_test[start_end[0]:start_end[1],0], color=(0.3,0.3,0.3), linewidth=2, label='true (horizontal)')\n",
    "axes[0,0].plot(x,y_test_predicted[start_end[0]:start_end[1],0], color=pal[6], linewidth=2, label='predicted (horizontal)')\n",
    "axes[0,0].plot(x,y_test[start_end[0]:start_end[1],1], color=(0.3,0.3,0.3), linestyle='dashed', linewidth=2, label='true (vertical)')\n",
    "axes[0,0].plot(x,y_test_predicted[start_end[0]:start_end[1],1], color=pal[6], linestyle='dashed', linewidth=2, label='predicted (vertical)')\n",
    "axes[0,0].set_ylim(-12.5, 14.5)\n",
    "axes[0,0].set_yticks([-10,0,10])\n",
    "axes[0,0].set_xticks([])\n",
    "\n",
    "start_end = [87,118] \n",
    "axes[0,1].plot(x,y_test[start_end[0]:start_end[1],0], color=(0.3,0.3,0.3), linewidth=2, label='$X_{true}$')\n",
    "axes[0,1].plot(x,y_test_predicted[start_end[0]:start_end[1],0], color=pal[6], linewidth=2, label='$X_{decoded}$')\n",
    "axes[0,1].plot(x,y_test[start_end[0]:start_end[1],1], color=(0.3,0.3,0.3), linestyle='dashed', linewidth=2, label='$Y_{true}$')\n",
    "axes[0,1].plot(x,y_test_predicted[start_end[0]:start_end[1],1], color=pal[6], linestyle='dashed', linewidth=2, label='$Y_{decoded}$')\n",
    "axes[0,1].set_ylim(-1.25, 12.5)\n",
    "axes[0,1].set_yticks([0,10])\n",
    "axes[0,1].set_xticks([])\n",
    "\n",
    "start_end = [1047,1078] \n",
    "axes[1,0].plot(x,y_test[start_end[0]:start_end[1],0], color=(0.3,0.3,0.3), linewidth=2, label='true (horizontal)')\n",
    "axes[1,0].plot(x,y_test_predicted[start_end[0]:start_end[1],0], color=pal[6], linewidth=2, label='predicted (horizontal)')\n",
    "axes[1,0].plot(x,y_test[start_end[0]:start_end[1],1], color=(0.3,0.3,0.3), linestyle='dashed', linewidth=2, label='true (vertical)')\n",
    "axes[1,0].plot(x,y_test_predicted[start_end[0]:start_end[1],1], color=pal[6], linestyle='dashed', linewidth=2, label='predicted (vertical)')\n",
    "axes[1,0].set_ylim(-12.5,2)\n",
    "axes[1,0].set_yticks([-10,0])\n",
    "axes[1,0].set_xticks([-500,0,500,1000])\n",
    "\n",
    "start_end = [184,215] \n",
    "axes[1,1].plot(x,y_test[start_end[0]:start_end[1],0], color=(0.3,0.3,0.3), linewidth=2, label='true (horizontal)')\n",
    "axes[1,1].plot(x,y_test_predicted[start_end[0]:start_end[1],0], color=pal[6], linewidth=2, label='predicted (horizontal)')\n",
    "axes[1,1].plot(x,y_test[start_end[0]:start_end[1],1], color=(0.3,0.3,0.3), linestyle='dashed', linewidth=2, label='true (vertical)')\n",
    "axes[1,1].plot(x,y_test_predicted[start_end[0]:start_end[1],1], color=pal[6], linestyle='dashed', linewidth=2, label='predicted (vertical)')\n",
    "axes[1,1].set_ylim(-14.75, 14)\n",
    "axes[1,1].set_yticks([-10,0,10])\n",
    "axes[1,1].set_xticks([-500,0,500,1000])\n",
    "\n",
    "plt.subplots_adjust(wspace=0.25, hspace=0.05)\n",
    "\n",
    "axes[0,1].legend(loc='lower center', bbox_to_anchor=(-0.12, 0.95),\n",
    "          fancybox=False, shadow=False, ncol=4, fontsize=\"10\",frameon=False)\n",
    "\n",
    "#fig.savefig(fig_folder+'/model_4traces.png', dpi=600, bbox_inches='tight') "
   ]
  },
  {
   "cell_type": "code",
   "execution_count": null,
   "id": "d85152b7",
   "metadata": {},
   "outputs": [],
   "source": [
    "fig, axes = plt.subplots(1,1,figsize=(3,3))\n",
    "\n",
    "start_end = [1272,1303]\n",
    "axes.plot(y_test[start_end[0]:start_end[1],0],y_test[start_end[0]:start_end[1],1], color=(0.3,0.3,0.3), linewidth=2, label='true (horizontal)')\n",
    "axes.plot(y_test_predicted[start_end[0]:start_end[1],0],y_test_predicted[start_end[0]:start_end[1],1], color=pal[6], linewidth=2, label='predicted (horizontal)')\n",
    "\n",
    "start_end = [87,118] \n",
    "axes.plot(y_test[start_end[0]:start_end[1],0],y_test[start_end[0]:start_end[1],1], color=(0.3,0.3,0.3), linewidth=2, label='true (horizontal)')\n",
    "axes.plot(y_test_predicted[start_end[0]:start_end[1],0],y_test_predicted[start_end[0]:start_end[1],1], color=pal[6], linewidth=2, label='predicted (horizontal)')\n",
    "\n",
    "start_end = [1047,1078] \n",
    "axes.plot(y_test[start_end[0]:start_end[1],0],y_test[start_end[0]:start_end[1],1], color=(0.3,0.3,0.3), linewidth=2, label='true (horizontal)')\n",
    "axes.plot(y_test_predicted[start_end[0]:start_end[1],0],y_test_predicted[start_end[0]:start_end[1],1], color=pal[6], linewidth=2, label='predicted (horizontal)')\n",
    "\n",
    "start_end = [184,215] \n",
    "axes.plot(y_test[start_end[0]:start_end[1],0],y_test[start_end[0]:start_end[1],1], color=(0.3,0.3,0.3), linewidth=2, label='true (horizontal)')\n",
    "axes.plot(y_test_predicted[start_end[0]:start_end[1],0],y_test_predicted[start_end[0]:start_end[1],1], color=pal[6], linewidth=2, label='predicted (horizontal)')\n",
    "\n",
    "#fig.savefig(fig_folder+'/model_stacktraces.png', dpi=600, bbox_inches='tight') "
   ]
  },
  {
   "cell_type": "markdown",
   "id": "a3e8ad19",
   "metadata": {},
   "source": [
    "# Figure 2"
   ]
  },
  {
   "cell_type": "code",
   "execution_count": 6,
   "id": "f829f668",
   "metadata": {},
   "outputs": [
    {
     "data": {
      "text/html": [
       "<div>\n",
       "<style scoped>\n",
       "    .dataframe tbody tr th:only-of-type {\n",
       "        vertical-align: middle;\n",
       "    }\n",
       "\n",
       "    .dataframe tbody tr th {\n",
       "        vertical-align: top;\n",
       "    }\n",
       "\n",
       "    .dataframe thead th {\n",
       "        text-align: right;\n",
       "    }\n",
       "</style>\n",
       "<table border=\"1\" class=\"dataframe\">\n",
       "  <thead>\n",
       "    <tr style=\"text-align: right;\">\n",
       "      <th></th>\n",
       "      <th>sess</th>\n",
       "      <th>outer_fold</th>\n",
       "      <th>nMT</th>\n",
       "      <th>nFEF</th>\n",
       "      <th>model</th>\n",
       "      <th>mean_R2</th>\n",
       "      <th>mean_rho</th>\n",
       "      <th>mean_R2_null</th>\n",
       "      <th>mean_rho_null</th>\n",
       "      <th>time_elapsed</th>\n",
       "      <th>neuron_dropped</th>\n",
       "      <th>mean_R2_    FULL</th>\n",
       "      <th>mean_rho_FULL</th>\n",
       "      <th>mean_R2_null_FULL</th>\n",
       "      <th>mean_rho_null_FULL</th>\n",
       "    </tr>\n",
       "  </thead>\n",
       "  <tbody>\n",
       "    <tr>\n",
       "      <th>0</th>\n",
       "      <td>16</td>\n",
       "      <td>0</td>\n",
       "      <td>23</td>\n",
       "      <td>24</td>\n",
       "      <td>0</td>\n",
       "      <td>-0.01205</td>\n",
       "      <td>-0.024693</td>\n",
       "      <td>-0.009135</td>\n",
       "      <td>-0.00602</td>\n",
       "      <td>26.151525</td>\n",
       "      <td>0</td>\n",
       "      <td>-0.011687</td>\n",
       "      <td>-0.025916</td>\n",
       "      <td>-0.010374</td>\n",
       "      <td>-0.011118</td>\n",
       "    </tr>\n",
       "  </tbody>\n",
       "</table>\n",
       "</div>"
      ],
      "text/plain": [
       "   sess  outer_fold  nMT  nFEF  model  mean_R2  mean_rho  mean_R2_null   \n",
       "0    16           0   23    24      0 -0.01205 -0.024693     -0.009135  \\\n",
       "\n",
       "   mean_rho_null  time_elapsed  neuron_dropped  mean_R2_    FULL   \n",
       "0       -0.00602     26.151525               0         -0.011687  \\\n",
       "\n",
       "   mean_rho_FULL  mean_R2_null_FULL  mean_rho_null_FULL  \n",
       "0      -0.025916          -0.010374           -0.011118  "
      ]
     },
     "execution_count": 6,
     "metadata": {},
     "output_type": "execute_result"
    }
   ],
   "source": [
    "conditions = [\"m00\"]\n",
    "column_names = ['sess','outer_fold','nMT','nFEF','model','mean_R2','mean_rho','mean_R2_null','mean_rho_null','time_elapsed','neuron_dropped','mean_R2_    FULL','mean_rho_FULL','mean_R2_null_FULL','mean_rho_null_FULL']\n",
    "df2 = get_outputsSweep(data_folder+'/neuron_dropping',conditions,column_names)\n",
    "df2.head(1)"
   ]
  },
  {
   "cell_type": "code",
   "execution_count": 179,
   "id": "7428ccbf",
   "metadata": {},
   "outputs": [
    {
     "name": "stdout",
     "output_type": "stream",
     "text": [
      "0.31170379952345134\n"
     ]
    },
    {
     "data": {
      "text/plain": [
       "[Text(83.22222222222221, 0.5, '')]"
      ]
     },
     "execution_count": 179,
     "metadata": {},
     "output_type": "execute_result"
    },
    {
     "data": {
      "image/png": "[encoded data removed]",
      "text/plain": [
       "<Figure size 1000x300 with 1 Axes>"
      ]
     },
     "metadata": {},
     "output_type": "display_data"
    }
   ],
   "source": [
    "plt.rcParams.update({'font.size': 12})\n",
    "\n",
    "fig, ax = plt.subplots(1,1, figsize=(10,3))\n",
    "fig.tight_layout()\n",
    "\n",
    "#'bad' sessions: 16\n",
    "#'semi' sessions: 18,20,34,38\n",
    "#'good' sessions: 19*,21,22,23*,24,25,27,28,29*,32,33,35\n",
    "sess = 25\n",
    "#units = pd.read_csv('/Users/kendranoneman/Projects/mayo/NeuralDecoding/datasets/units'+'/units-pa{}dir4A-pre500-post300'.format(sess)+'.csv')\n",
    "#print_df(units)\n",
    "\n",
    "dat = df2.loc[(df2['sess']==sess)& (df2['outer_fold']!=5)& (df2['outer_fold']!=8)].reset_index()\n",
    "print((dat['mean_R2_    FULL'].values).mean())\n",
    "mtfef_pal = []\n",
    "for i in range(int(dat.iloc[0]['nFEF'])+1):\n",
    "    if int(dat.iloc[0]['nFEF']) !=0:\n",
    "        mtfef_pal.append('mediumpurple')\n",
    "for i in range(int(dat.iloc[0]['nMT'])):\n",
    "    mtfef_pal.append('mediumseagreen')\n",
    "    \n",
    "hue_plot_params = {'data':dat, 'x':'neuron_dropped', 'y':'mean_R2','palette':mtfef_pal}\n",
    "a = sns.boxplot(ax=ax, **hue_plot_params,zorder=1)\n",
    "a.axhline((dat['mean_R2_    FULL'].values).mean(),linestyle='--',color='black',zorder=0)\n",
    "a.set_xticks(np.arange(0,len(mtfef_pal)+1,2))\n",
    "a.set_xlim(-1,len(mtfef_pal))\n",
    "a.set(xlabel=None)\n",
    "a.set(ylabel=None)\n",
    "\n",
    "#fig.savefig(fig_folder+'/neuron_dropping.png', dpi=600, bbox_inches='tight') "
   ]
  },
  {
   "cell_type": "code",
   "execution_count": null,
   "id": "bb925d05",
   "metadata": {},
   "outputs": [],
   "source": []
  },
  {
   "cell_type": "code",
   "execution_count": null,
   "id": "4d71b313",
   "metadata": {},
   "outputs": [],
   "source": []
  }
 ],
 "metadata": {
  "kernelspec": {
   "display_name": "neuraldecoding",
   "language": "python",
   "name": "neuraldecoding"
  },
  "language_info": {
   "codemirror_mode": {
    "name": "ipython",
    "version": 3
   },
   "file_extension": ".py",
   "mimetype": "text/x-python",
   "name": "python",
   "nbconvert_exporter": "python",
   "pygments_lexer": "ipython3",
   "version": "3.10.10"
  }
 },
 "nbformat": 4,
 "nbformat_minor": 5
}
